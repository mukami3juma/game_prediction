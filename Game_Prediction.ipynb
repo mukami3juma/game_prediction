{
  "nbformat": 4,
  "nbformat_minor": 0,
  "metadata": {
    "colab": {
      "name": "Game Prediction",
      "provenance": [],
      "collapsed_sections": [],
      "toc_visible": true,
      "authorship_tag": "ABX9TyNoqcuKhuu73G506E9ToXgD",
      "include_colab_link": true
    },
    "kernelspec": {
      "name": "python3",
      "display_name": "Python 3"
    },
    "language_info": {
      "name": "python"
    }
  },
  "cells": [
    {
      "cell_type": "markdown",
      "metadata": {
        "id": "view-in-github",
        "colab_type": "text"
      },
      "source": [
        "<a href=\"https://colab.research.google.com/github/mukami3juma/game_prediction/blob/main/Game_Prediction.ipynb\" target=\"_parent\"><img src=\"https://colab.research.google.com/assets/colab-badge.svg\" alt=\"Open In Colab\"/></a>"
      ]
    },
    {
      "cell_type": "markdown",
      "metadata": {
        "id": "Rzaxk3JnLtPc"
      },
      "source": [
        "\n",
        "## 1. Defining the Question\n",
        "\n",
        "\n",
        "\n"
      ]
    },
    {
      "cell_type": "markdown",
      "metadata": {
        "id": "AVKwQbgULw3O"
      },
      "source": [
        "### a) Specifying the Question\n"
      ]
    },
    {
      "cell_type": "markdown",
      "metadata": {
        "id": "PaBmrsi1L3-y"
      },
      "source": [
        "Mchezopesa Ltd, a football betting company, enables football fans to bet on their favorite teams for a chance to win some money. It would therefore like to create a model that predicts the result of a game between team 1 and team 2, based on whether they are playing in their home country or not and whether the game is friendly or not while taking into account their rankings for purposes of pricing."
      ]
    },
    {
      "cell_type": "markdown",
      "metadata": {
        "id": "6DMYPmiFNEfu"
      },
      "source": [
        "### b) Defining the Metric for Success"
      ]
    },
    {
      "cell_type": "markdown",
      "metadata": {
        "id": "ShKyS8XfYRcO"
      },
      "source": [
        "\n",
        "This project will be considered successful if the models created are able to predict results of a game at an accuracy rate of atleast 70% but below 100% and have the lowest RMSE score possible."
      ]
    },
    {
      "cell_type": "markdown",
      "metadata": {
        "id": "qATr_9vFNW_t"
      },
      "source": [
        "### c) Understanding the context"
      ]
    },
    {
      "cell_type": "markdown",
      "metadata": {
        "id": "R2vuHORMZwvn"
      },
      "source": [
        "The men's FIFA World Ranking is a ranking system for men's national teams in association football. The teams of the men's member nations of FIFA, football's world governing body, are ranked based on their game results with the most successful teams being ranked highest.\n",
        "The ranking system which is approved by the FIFA Council is based on the Elo rating system and after each game,points will be added to or subtracted from a team's pre-existing rating.\n",
        "\n",
        "Rankings are published monthly, usually on a Thursday. The deadline for the matches to be considered is usually the Thursday before the release date, but after major tournaments, all games up to the final are included.[\n"
      ]
    },
    {
      "cell_type": "markdown",
      "metadata": {
        "id": "MeZy70J9Nbev"
      },
      "source": [
        "### d) Experimental Design"
      ]
    },
    {
      "cell_type": "markdown",
      "metadata": {
        "id": "LRQUWONfdi0h"
      },
      "source": [
        "In order to work on the above problem we will perform an EDA, feature engineering, check for multicollinearity, build the models using polynomial regression, cross-validate the models, compute RMSE, create residual plot for the models, assess their heteroscedasticity using Bartlett’s test and challenge the solution.\n"
      ]
    },
    {
      "cell_type": "markdown",
      "metadata": {
        "id": "zYUQXFnrNfFN"
      },
      "source": [
        "### e) Data Relevance"
      ]
    },
    {
      "cell_type": "markdown",
      "metadata": {
        "id": "nIvvap0wf2qe"
      },
      "source": [
        "The relavance of our data is backed by the 2 datasets that we will be using for this problem. They include: fifa_ranking.csv showing team rankings from 1993 - 2018 and results_csv comprising scores,country where games were played from,tournament type etc from 1872 - 2019, revealing that our dataset is sufficient and is from a reliable source."
      ]
    },
    {
      "cell_type": "markdown",
      "metadata": {
        "id": "EqvEHMZRNihf"
      },
      "source": [
        "## 2. Reading the Data"
      ]
    },
    {
      "cell_type": "code",
      "metadata": {
        "id": "7sRUQlXyNz8r"
      },
      "source": [
        "# importing libraries\n",
        "import pandas as pd\n",
        "import numpy as np\n",
        "import matplotlib.pyplot as plt\n",
        "import seaborn as sns\n",
        "\n",
        "# Loading the Dataset\n",
        "ranking = pd.read_csv('/content/fifa_ranking.csv')\n",
        "result = pd.read_csv('/content/results.csv')"
      ],
      "execution_count": 4,
      "outputs": []
    },
    {
      "cell_type": "code",
      "metadata": {
        "colab": {
          "base_uri": "https://localhost:8080/",
          "height": 312
        },
        "id": "ri0kOdWjTD_3",
        "outputId": "6fc256b9-5753-4328-f636-b987c9922fec"
      },
      "source": [
        "# Previewing the top of our ranking dataset\n",
        "\n",
        "ranking.head()"
      ],
      "execution_count": 5,
      "outputs": [
        {
          "output_type": "execute_result",
          "data": {
            "text/html": [
              "<div>\n",
              "<style scoped>\n",
              "    .dataframe tbody tr th:only-of-type {\n",
              "        vertical-align: middle;\n",
              "    }\n",
              "\n",
              "    .dataframe tbody tr th {\n",
              "        vertical-align: top;\n",
              "    }\n",
              "\n",
              "    .dataframe thead th {\n",
              "        text-align: right;\n",
              "    }\n",
              "</style>\n",
              "<table border=\"1\" class=\"dataframe\">\n",
              "  <thead>\n",
              "    <tr style=\"text-align: right;\">\n",
              "      <th></th>\n",
              "      <th>rank</th>\n",
              "      <th>country_full</th>\n",
              "      <th>country_abrv</th>\n",
              "      <th>total_points</th>\n",
              "      <th>previous_points</th>\n",
              "      <th>rank_change</th>\n",
              "      <th>cur_year_avg</th>\n",
              "      <th>cur_year_avg_weighted</th>\n",
              "      <th>last_year_avg</th>\n",
              "      <th>last_year_avg_weighted</th>\n",
              "      <th>two_year_ago_avg</th>\n",
              "      <th>two_year_ago_weighted</th>\n",
              "      <th>three_year_ago_avg</th>\n",
              "      <th>three_year_ago_weighted</th>\n",
              "      <th>confederation</th>\n",
              "      <th>rank_date</th>\n",
              "    </tr>\n",
              "  </thead>\n",
              "  <tbody>\n",
              "    <tr>\n",
              "      <th>0</th>\n",
              "      <td>1</td>\n",
              "      <td>Germany</td>\n",
              "      <td>GER</td>\n",
              "      <td>0.0</td>\n",
              "      <td>57</td>\n",
              "      <td>0</td>\n",
              "      <td>0.0</td>\n",
              "      <td>0.0</td>\n",
              "      <td>0.0</td>\n",
              "      <td>0.0</td>\n",
              "      <td>0.0</td>\n",
              "      <td>0.0</td>\n",
              "      <td>0.0</td>\n",
              "      <td>0.0</td>\n",
              "      <td>UEFA</td>\n",
              "      <td>1993-08-08</td>\n",
              "    </tr>\n",
              "    <tr>\n",
              "      <th>1</th>\n",
              "      <td>2</td>\n",
              "      <td>Italy</td>\n",
              "      <td>ITA</td>\n",
              "      <td>0.0</td>\n",
              "      <td>57</td>\n",
              "      <td>0</td>\n",
              "      <td>0.0</td>\n",
              "      <td>0.0</td>\n",
              "      <td>0.0</td>\n",
              "      <td>0.0</td>\n",
              "      <td>0.0</td>\n",
              "      <td>0.0</td>\n",
              "      <td>0.0</td>\n",
              "      <td>0.0</td>\n",
              "      <td>UEFA</td>\n",
              "      <td>1993-08-08</td>\n",
              "    </tr>\n",
              "    <tr>\n",
              "      <th>2</th>\n",
              "      <td>3</td>\n",
              "      <td>Switzerland</td>\n",
              "      <td>SUI</td>\n",
              "      <td>0.0</td>\n",
              "      <td>50</td>\n",
              "      <td>9</td>\n",
              "      <td>0.0</td>\n",
              "      <td>0.0</td>\n",
              "      <td>0.0</td>\n",
              "      <td>0.0</td>\n",
              "      <td>0.0</td>\n",
              "      <td>0.0</td>\n",
              "      <td>0.0</td>\n",
              "      <td>0.0</td>\n",
              "      <td>UEFA</td>\n",
              "      <td>1993-08-08</td>\n",
              "    </tr>\n",
              "    <tr>\n",
              "      <th>3</th>\n",
              "      <td>4</td>\n",
              "      <td>Sweden</td>\n",
              "      <td>SWE</td>\n",
              "      <td>0.0</td>\n",
              "      <td>55</td>\n",
              "      <td>0</td>\n",
              "      <td>0.0</td>\n",
              "      <td>0.0</td>\n",
              "      <td>0.0</td>\n",
              "      <td>0.0</td>\n",
              "      <td>0.0</td>\n",
              "      <td>0.0</td>\n",
              "      <td>0.0</td>\n",
              "      <td>0.0</td>\n",
              "      <td>UEFA</td>\n",
              "      <td>1993-08-08</td>\n",
              "    </tr>\n",
              "    <tr>\n",
              "      <th>4</th>\n",
              "      <td>5</td>\n",
              "      <td>Argentina</td>\n",
              "      <td>ARG</td>\n",
              "      <td>0.0</td>\n",
              "      <td>51</td>\n",
              "      <td>5</td>\n",
              "      <td>0.0</td>\n",
              "      <td>0.0</td>\n",
              "      <td>0.0</td>\n",
              "      <td>0.0</td>\n",
              "      <td>0.0</td>\n",
              "      <td>0.0</td>\n",
              "      <td>0.0</td>\n",
              "      <td>0.0</td>\n",
              "      <td>CONMEBOL</td>\n",
              "      <td>1993-08-08</td>\n",
              "    </tr>\n",
              "  </tbody>\n",
              "</table>\n",
              "</div>"
            ],
            "text/plain": [
              "   rank country_full  ... confederation   rank_date\n",
              "0     1      Germany  ...          UEFA  1993-08-08\n",
              "1     2        Italy  ...          UEFA  1993-08-08\n",
              "2     3  Switzerland  ...          UEFA  1993-08-08\n",
              "3     4       Sweden  ...          UEFA  1993-08-08\n",
              "4     5    Argentina  ...      CONMEBOL  1993-08-08\n",
              "\n",
              "[5 rows x 16 columns]"
            ]
          },
          "metadata": {},
          "execution_count": 5
        }
      ]
    },
    {
      "cell_type": "code",
      "metadata": {
        "colab": {
          "base_uri": "https://localhost:8080/",
          "height": 206
        },
        "id": "uqkCzUcjgBci",
        "outputId": "1d22b1d2-9d54-4690-c0f0-38cd7750c697"
      },
      "source": [
        "# Previewing the bottom of our result dataset\n",
        "\n",
        "result.head()"
      ],
      "execution_count": 6,
      "outputs": [
        {
          "output_type": "execute_result",
          "data": {
            "text/html": [
              "<div>\n",
              "<style scoped>\n",
              "    .dataframe tbody tr th:only-of-type {\n",
              "        vertical-align: middle;\n",
              "    }\n",
              "\n",
              "    .dataframe tbody tr th {\n",
              "        vertical-align: top;\n",
              "    }\n",
              "\n",
              "    .dataframe thead th {\n",
              "        text-align: right;\n",
              "    }\n",
              "</style>\n",
              "<table border=\"1\" class=\"dataframe\">\n",
              "  <thead>\n",
              "    <tr style=\"text-align: right;\">\n",
              "      <th></th>\n",
              "      <th>date</th>\n",
              "      <th>home_team</th>\n",
              "      <th>away_team</th>\n",
              "      <th>home_score</th>\n",
              "      <th>away_score</th>\n",
              "      <th>tournament</th>\n",
              "      <th>city</th>\n",
              "      <th>country</th>\n",
              "      <th>neutral</th>\n",
              "    </tr>\n",
              "  </thead>\n",
              "  <tbody>\n",
              "    <tr>\n",
              "      <th>0</th>\n",
              "      <td>1872-11-30</td>\n",
              "      <td>Scotland</td>\n",
              "      <td>England</td>\n",
              "      <td>0</td>\n",
              "      <td>0</td>\n",
              "      <td>Friendly</td>\n",
              "      <td>Glasgow</td>\n",
              "      <td>Scotland</td>\n",
              "      <td>False</td>\n",
              "    </tr>\n",
              "    <tr>\n",
              "      <th>1</th>\n",
              "      <td>1873-03-08</td>\n",
              "      <td>England</td>\n",
              "      <td>Scotland</td>\n",
              "      <td>4</td>\n",
              "      <td>2</td>\n",
              "      <td>Friendly</td>\n",
              "      <td>London</td>\n",
              "      <td>England</td>\n",
              "      <td>False</td>\n",
              "    </tr>\n",
              "    <tr>\n",
              "      <th>2</th>\n",
              "      <td>1874-03-07</td>\n",
              "      <td>Scotland</td>\n",
              "      <td>England</td>\n",
              "      <td>2</td>\n",
              "      <td>1</td>\n",
              "      <td>Friendly</td>\n",
              "      <td>Glasgow</td>\n",
              "      <td>Scotland</td>\n",
              "      <td>False</td>\n",
              "    </tr>\n",
              "    <tr>\n",
              "      <th>3</th>\n",
              "      <td>1875-03-06</td>\n",
              "      <td>England</td>\n",
              "      <td>Scotland</td>\n",
              "      <td>2</td>\n",
              "      <td>2</td>\n",
              "      <td>Friendly</td>\n",
              "      <td>London</td>\n",
              "      <td>England</td>\n",
              "      <td>False</td>\n",
              "    </tr>\n",
              "    <tr>\n",
              "      <th>4</th>\n",
              "      <td>1876-03-04</td>\n",
              "      <td>Scotland</td>\n",
              "      <td>England</td>\n",
              "      <td>3</td>\n",
              "      <td>0</td>\n",
              "      <td>Friendly</td>\n",
              "      <td>Glasgow</td>\n",
              "      <td>Scotland</td>\n",
              "      <td>False</td>\n",
              "    </tr>\n",
              "  </tbody>\n",
              "</table>\n",
              "</div>"
            ],
            "text/plain": [
              "         date home_team away_team  ...     city   country neutral\n",
              "0  1872-11-30  Scotland   England  ...  Glasgow  Scotland   False\n",
              "1  1873-03-08   England  Scotland  ...   London   England   False\n",
              "2  1874-03-07  Scotland   England  ...  Glasgow  Scotland   False\n",
              "3  1875-03-06   England  Scotland  ...   London   England   False\n",
              "4  1876-03-04  Scotland   England  ...  Glasgow  Scotland   False\n",
              "\n",
              "[5 rows x 9 columns]"
            ]
          },
          "metadata": {},
          "execution_count": 6
        }
      ]
    },
    {
      "cell_type": "markdown",
      "metadata": {
        "id": "vkkCNFkoN5WP"
      },
      "source": [
        "## 3. Checking the Data"
      ]
    },
    {
      "cell_type": "code",
      "metadata": {
        "id": "cN6QDHiAOATK",
        "colab": {
          "base_uri": "https://localhost:8080/"
        },
        "outputId": "720ea691-f1ac-43de-cf5f-19a4248fa878"
      },
      "source": [
        "# Determining the no. of records in ranking and result dataset\n",
        "\n",
        "print(ranking.shape)\n",
        "print(result.shape)"
      ],
      "execution_count": 7,
      "outputs": [
        {
          "output_type": "stream",
          "name": "stdout",
          "text": [
            "(57793, 16)\n",
            "(40839, 9)\n"
          ]
        }
      ]
    },
    {
      "cell_type": "code",
      "metadata": {
        "id": "qd2vG4NvAM6e",
        "colab": {
          "base_uri": "https://localhost:8080/"
        },
        "outputId": "84d787fc-ad9e-48bc-ffcd-e936e30e2561"
      },
      "source": [
        "# checking data types\n",
        "print('RANK DATATYPES:')\n",
        "ranking.info()\n",
        "\n",
        "print('------------------------------------------------------------')\n",
        "\n",
        "print('RESULT DATATYPES:')\n",
        "result.info()"
      ],
      "execution_count": 8,
      "outputs": [
        {
          "output_type": "stream",
          "name": "stdout",
          "text": [
            "RANK DATATYPES:\n",
            "<class 'pandas.core.frame.DataFrame'>\n",
            "RangeIndex: 57793 entries, 0 to 57792\n",
            "Data columns (total 16 columns):\n",
            " #   Column                   Non-Null Count  Dtype  \n",
            "---  ------                   --------------  -----  \n",
            " 0   rank                     57793 non-null  int64  \n",
            " 1   country_full             57793 non-null  object \n",
            " 2   country_abrv             57793 non-null  object \n",
            " 3   total_points             57793 non-null  float64\n",
            " 4   previous_points          57793 non-null  int64  \n",
            " 5   rank_change              57793 non-null  int64  \n",
            " 6   cur_year_avg             57793 non-null  float64\n",
            " 7   cur_year_avg_weighted    57793 non-null  float64\n",
            " 8   last_year_avg            57793 non-null  float64\n",
            " 9   last_year_avg_weighted   57793 non-null  float64\n",
            " 10  two_year_ago_avg         57793 non-null  float64\n",
            " 11  two_year_ago_weighted    57793 non-null  float64\n",
            " 12  three_year_ago_avg       57793 non-null  float64\n",
            " 13  three_year_ago_weighted  57793 non-null  float64\n",
            " 14  confederation            57793 non-null  object \n",
            " 15  rank_date                57793 non-null  object \n",
            "dtypes: float64(9), int64(3), object(4)\n",
            "memory usage: 7.1+ MB\n",
            "------------------------------------------------------------\n",
            "RESULT DATATYPES:\n",
            "<class 'pandas.core.frame.DataFrame'>\n",
            "RangeIndex: 40839 entries, 0 to 40838\n",
            "Data columns (total 9 columns):\n",
            " #   Column      Non-Null Count  Dtype \n",
            "---  ------      --------------  ----- \n",
            " 0   date        40839 non-null  object\n",
            " 1   home_team   40839 non-null  object\n",
            " 2   away_team   40839 non-null  object\n",
            " 3   home_score  40839 non-null  int64 \n",
            " 4   away_score  40839 non-null  int64 \n",
            " 5   tournament  40839 non-null  object\n",
            " 6   city        40839 non-null  object\n",
            " 7   country     40839 non-null  object\n",
            " 8   neutral     40839 non-null  bool  \n",
            "dtypes: bool(1), int64(2), object(6)\n",
            "memory usage: 2.5+ MB\n"
          ]
        }
      ]
    },
    {
      "cell_type": "markdown",
      "metadata": {
        "id": "lv6b9dDTXp3e"
      },
      "source": [
        "## 4. Tidying the dataset"
      ]
    },
    {
      "cell_type": "code",
      "metadata": {
        "id": "hrE2x5nwnWZq",
        "colab": {
          "base_uri": "https://localhost:8080/"
        },
        "outputId": "7680f24e-dda9-41b2-9704-880df3f93960"
      },
      "source": [
        "# change date columns on both datasets from object datatypes to date datatypes\n",
        "ranking['rank_date'] = pd.to_datetime(ranking['rank_date'])\n",
        "ranking.info()\n",
        "\n",
        "result['date'] = pd.to_datetime(result['date'])\n",
        "result.info()"
      ],
      "execution_count": 9,
      "outputs": [
        {
          "output_type": "stream",
          "name": "stdout",
          "text": [
            "<class 'pandas.core.frame.DataFrame'>\n",
            "RangeIndex: 57793 entries, 0 to 57792\n",
            "Data columns (total 16 columns):\n",
            " #   Column                   Non-Null Count  Dtype         \n",
            "---  ------                   --------------  -----         \n",
            " 0   rank                     57793 non-null  int64         \n",
            " 1   country_full             57793 non-null  object        \n",
            " 2   country_abrv             57793 non-null  object        \n",
            " 3   total_points             57793 non-null  float64       \n",
            " 4   previous_points          57793 non-null  int64         \n",
            " 5   rank_change              57793 non-null  int64         \n",
            " 6   cur_year_avg             57793 non-null  float64       \n",
            " 7   cur_year_avg_weighted    57793 non-null  float64       \n",
            " 8   last_year_avg            57793 non-null  float64       \n",
            " 9   last_year_avg_weighted   57793 non-null  float64       \n",
            " 10  two_year_ago_avg         57793 non-null  float64       \n",
            " 11  two_year_ago_weighted    57793 non-null  float64       \n",
            " 12  three_year_ago_avg       57793 non-null  float64       \n",
            " 13  three_year_ago_weighted  57793 non-null  float64       \n",
            " 14  confederation            57793 non-null  object        \n",
            " 15  rank_date                57793 non-null  datetime64[ns]\n",
            "dtypes: datetime64[ns](1), float64(9), int64(3), object(3)\n",
            "memory usage: 7.1+ MB\n",
            "<class 'pandas.core.frame.DataFrame'>\n",
            "RangeIndex: 40839 entries, 0 to 40838\n",
            "Data columns (total 9 columns):\n",
            " #   Column      Non-Null Count  Dtype         \n",
            "---  ------      --------------  -----         \n",
            " 0   date        40839 non-null  datetime64[ns]\n",
            " 1   home_team   40839 non-null  object        \n",
            " 2   away_team   40839 non-null  object        \n",
            " 3   home_score  40839 non-null  int64         \n",
            " 4   away_score  40839 non-null  int64         \n",
            " 5   tournament  40839 non-null  object        \n",
            " 6   city        40839 non-null  object        \n",
            " 7   country     40839 non-null  object        \n",
            " 8   neutral     40839 non-null  bool          \n",
            "dtypes: bool(1), datetime64[ns](1), int64(2), object(5)\n",
            "memory usage: 2.5+ MB\n"
          ]
        }
      ]
    },
    {
      "cell_type": "code",
      "metadata": {
        "id": "hHt_OtnFS1ar",
        "colab": {
          "base_uri": "https://localhost:8080/"
        },
        "outputId": "0734f33c-5765-4078-db88-c96e6acca698"
      },
      "source": [
        "# checking for duplicates\n",
        "print('RANKING DUPLICATES:')\n",
        "print(ranking.duplicated().sum())\n",
        "\n",
        "print('---------------------------------------')\n",
        "\n",
        "print('RESULT DUPLICATES')\n",
        "result.duplicated().sum()"
      ],
      "execution_count": 10,
      "outputs": [
        {
          "output_type": "stream",
          "name": "stdout",
          "text": [
            "RANKING DUPLICATES:\n",
            "37\n",
            "---------------------------------------\n",
            "RESULT DUPLICATES\n"
          ]
        },
        {
          "output_type": "execute_result",
          "data": {
            "text/plain": [
              "0"
            ]
          },
          "metadata": {},
          "execution_count": 10
        }
      ]
    },
    {
      "cell_type": "code",
      "metadata": {
        "id": "uOChT1goUXiS",
        "colab": {
          "base_uri": "https://localhost:8080/"
        },
        "outputId": "3a532b97-9551-4424-913c-031be918c317"
      },
      "source": [
        "#dropping the duplicated columns in the ranking dataset\n",
        "\n",
        "ranking.drop_duplicates(subset = None, inplace = True)\n",
        "ranking.shape\n"
      ],
      "execution_count": 11,
      "outputs": [
        {
          "output_type": "execute_result",
          "data": {
            "text/plain": [
              "(57756, 16)"
            ]
          },
          "metadata": {},
          "execution_count": 11
        }
      ]
    },
    {
      "cell_type": "code",
      "metadata": {
        "id": "jmn-z3zOBnrP",
        "colab": {
          "base_uri": "https://localhost:8080/"
        },
        "outputId": "8c962b9d-f31b-43d8-cd41-3d08446f31db"
      },
      "source": [
        "# check for missing data\n",
        "print('MISSING RANKING DATA')\n",
        "\n",
        "print(ranking.isna().sum())\n",
        "\n",
        "print('--------------------------------------')\n",
        "\n",
        "print('MISSING RESULT DATA')\n",
        "\n",
        "print(result.isna().sum())"
      ],
      "execution_count": 12,
      "outputs": [
        {
          "output_type": "stream",
          "name": "stdout",
          "text": [
            "MISSING RANKING DATA\n",
            "rank                       0\n",
            "country_full               0\n",
            "country_abrv               0\n",
            "total_points               0\n",
            "previous_points            0\n",
            "rank_change                0\n",
            "cur_year_avg               0\n",
            "cur_year_avg_weighted      0\n",
            "last_year_avg              0\n",
            "last_year_avg_weighted     0\n",
            "two_year_ago_avg           0\n",
            "two_year_ago_weighted      0\n",
            "three_year_ago_avg         0\n",
            "three_year_ago_weighted    0\n",
            "confederation              0\n",
            "rank_date                  0\n",
            "dtype: int64\n",
            "--------------------------------------\n",
            "MISSING RESULT DATA\n",
            "date          0\n",
            "home_team     0\n",
            "away_team     0\n",
            "home_score    0\n",
            "away_score    0\n",
            "tournament    0\n",
            "city          0\n",
            "country       0\n",
            "neutral       0\n",
            "dtype: int64\n"
          ]
        }
      ]
    },
    {
      "cell_type": "code",
      "metadata": {
        "id": "Q19MaiY3TAjO",
        "colab": {
          "base_uri": "https://localhost:8080/"
        },
        "outputId": "2cfbd1e7-d93b-4a0d-f086-4e946c2a35d3"
      },
      "source": [
        "# checking for anomalies\n",
        "print('Ranking anomalies')\n",
        "for i in ranking:\n",
        "  print(ranking[i].unique())\n",
        "\n",
        "print('--------------------------------------')\n",
        "\n",
        "print('Result anomalies')\n",
        "for a in result:\n",
        "  print(result[a].unique())"
      ],
      "execution_count": 13,
      "outputs": [
        {
          "output_type": "stream",
          "name": "stdout",
          "text": [
            "Ranking anomalies\n",
            "[  1   2   3   4   5   6   7   8   9  10  11  12  13  14  15  16  17  18\n",
            "  19  20  21  22  23  24  25  26  27  28  29  30  31  32  33  34  35  36\n",
            "  37  38  39  40  41  42  43  44  45  46  47  48  49  50  51  52  53  54\n",
            "  55  56  57  58  59  60  61  62  63  64  65  66  67  68  69  70  71  72\n",
            "  73  74  75  76  77  78  79  80  81  82  83  84  85  86  87  88  89  90\n",
            "  91  92  93  94  95  96  97  98  99 100 101 102 103 104 105 106 107 108\n",
            " 109 110 111 112 113 114 115 116 117 118 119 120 121 122 123 124 125 126\n",
            " 127 128 129 130 131 132 133 134 135 136 137 138 139 140 141 142 143 144\n",
            " 145 146 148 149 150 151 152 153 154 155 156 157 158 159 160 161 162 163\n",
            " 164 165 166 167 147 168 169 170 171 172 173 174 176 175 177 178 179 180\n",
            " 181 182 183 184 185 186 187 188 189 190 191 192 193 194 195 196 197 198\n",
            " 199 200 201 202 203 204 205 207 206 208 209]\n",
            "['Germany' 'Italy' 'Switzerland' 'Sweden' 'Argentina'\n",
            " 'Republic of Ireland' 'Russia' 'Brazil' 'Norway' 'Denmark' 'England'\n",
            " 'France' 'Spain' 'Mexico' 'RCS' 'Netherlands' 'Nigeria' 'Belgium'\n",
            " 'Colombia' 'Poland' 'Romania' 'Uruguay' 'Portugal' 'Cameroon' 'Zambia'\n",
            " 'Egypt' 'Wales' 'USA' \"Côte d'Ivoire\" 'Scotland' 'Tunisia' 'Greece'\n",
            " 'Morocco' 'Algeria' 'Ecuador' 'Korea Republic' 'Bulgaria' 'Austria'\n",
            " 'Costa Rica' 'Northern Ireland' 'Honduras' 'Hungary' 'Japan'\n",
            " 'Saudi Arabia' 'China PR' 'Canada' 'Finland' 'Ghana' 'Chile' 'Zimbabwe'\n",
            " 'Qatar' 'Australia' 'Iceland' 'IR Iran' 'United Arab Emirates'\n",
            " 'Yugoslavia' 'Iraq' 'Senegal' 'Bolivia' 'Kuwait' 'Korea DPR'\n",
            " 'El Salvador' 'Turkey' 'Gabon' 'Guinea' 'Thailand' 'Paraguay' 'Malawi'\n",
            " 'Israel' 'Peru' 'Zaire' 'Cyprus' 'Singapore' 'Mali' 'Malaysia' 'Bermuda'\n",
            " 'Niger' 'Syria' 'Bahrain' 'New Zealand' 'Madagascar' 'Malta' 'Jamaica'\n",
            " 'Lithuania' 'Trinidad and Tobago' 'Sierra Leone' 'Jordan' 'Kenya'\n",
            " 'Latvia' 'Yemen' 'Tanzania' 'Albania' 'Angola' 'Venezuela' 'Ethiopia'\n",
            " 'Burundi' 'Oman' 'Indonesia' 'Liberia' 'Mozambique' 'Puerto Rico'\n",
            " 'Swaziland' 'Hong Kong' 'Uganda' 'Barbados' 'Myanmar' 'Congo' 'Lebanon'\n",
            " 'South Africa' 'Luxembourg' 'Faroe Islands' 'Guatemala' 'Burkina Faso'\n",
            " 'Togo' 'Suriname' 'Fiji' 'Croatia' 'Estonia' 'San Marino' 'Bangladesh'\n",
            " 'St Vincent and the Grenadines' 'Netherlands Antilles' 'Mauritius'\n",
            " 'Benin' 'Panama' 'Sudan' 'Antigua and Barbuda' 'Slovenia' 'India'\n",
            " 'Belarus' 'Ukraine' 'Vietnam' 'Guinea-Bissau' 'Guyana' 'Botswana'\n",
            " 'St Lucia' 'Tahiti' 'Grenada' 'Haiti' 'Libya' 'Laos' 'Mauritania'\n",
            " 'Cape Verde Islands' 'Solomon Islands' 'Brunei Darussalam' 'Lesotho'\n",
            " 'Dominican Republic' 'Pakistan' 'Nicaragua' 'Cuba' 'Seychelles'\n",
            " 'Central African Republic' 'Gambia' 'Namibia' 'Cayman Islands' 'Nepal'\n",
            " 'Liechtenstein' 'Equatorial Guinea' 'Chinese Taipei' 'Sri Lanka'\n",
            " 'Philippines' 'Chad' 'Vanuatu' 'Aruba' 'Bahamas' 'Maldives' 'Macau'\n",
            " 'Slovakia' 'St Kitts and Nevis' 'Czech Republic' 'Georgia'\n",
            " 'FYR Macedonia' 'Moldova' 'Armenia' 'Azerbaijan' 'Uzbekistan'\n",
            " 'Turkmenistan' 'Kazakhstan' 'Tajikistan' 'Kyrgyz Republic' 'Somalia'\n",
            " 'Djibouti' 'Dominica' 'Rwanda' 'Belize' 'Cambodia'\n",
            " 'Bosnia and Herzegovina' 'Guam' 'Papua New Guinea' 'Tonga' 'Samoa'\n",
            " 'Andorra' 'Cook Islands' 'British Virgin Islands' 'Anguilla'\n",
            " 'São Tomé e Príncipe' 'Eritrea' 'American Samoa' 'Palestine' 'Mongolia'\n",
            " 'Turks and Caicos Islands' 'US Virgin Islands' 'Montserrat' 'Congo DR'\n",
            " 'Bhutan' 'Serbia and Montenegro' 'Afghanistan' 'New Caledonia' 'Serbia'\n",
            " 'Timor-Leste' 'Comoros' 'Montenegro' 'Curaçao' 'South Sudan' 'Kosovo'\n",
            " 'Gibraltar']\n",
            "['GER' 'ITA' 'SUI' 'SWE' 'ARG' 'IRL' 'RUS' 'BRA' 'NOR' 'DEN' 'ENG' 'FRA'\n",
            " 'ESP' 'MEX' 'TCH' 'NED' 'NGA' 'BEL' 'COL' 'POL' 'ROU' 'URU' 'POR' 'CMR'\n",
            " 'ZAM' 'EGY' 'WAL' 'USA' 'CIV' 'SCO' 'TUN' 'GRE' 'MAR' 'ALG' 'ECU' 'KOR'\n",
            " 'BUL' 'AUT' 'CRC' 'NIR' 'HON' 'HUN' 'JPN' 'KSA' 'CHN' 'CAN' 'FIN' 'GHA'\n",
            " 'CHI' 'ZIM' 'QAT' 'AUS' 'ISL' 'IRN' 'UAE' 'YUG' 'IRQ' 'SEN' 'BOL' 'KUW'\n",
            " 'PRK' 'SLV' 'TUR' 'GAB' 'GUI' 'THA' 'PAR' 'MWI' 'ISR' 'PER' 'ZAI' 'CYP'\n",
            " 'SIN' 'MLI' 'MAS' 'BER' 'NIG' 'SYR' 'BHR' 'NZL' 'MAD' 'MLT' 'JAM' 'LTU'\n",
            " 'TRI' 'SLE' 'JOR' 'KEN' 'LVA' 'YEM' 'TAN' 'ALB' 'ANG' 'VEN' 'ETH' 'BDI'\n",
            " 'OMA' 'IDN' 'LBR' 'MOZ' 'PUR' 'SWZ' 'HKG' 'UGA' 'BRB' 'MYA' 'CGO' 'LIB'\n",
            " 'RSA' 'LUX' 'FRO' 'GUA' 'BFA' 'TOG' 'SUR' 'FIJ' 'CRO' 'EST' 'SMR' 'BAN'\n",
            " 'VIN' 'ANT' 'MRI' 'BEN' 'PAN' 'SDN' 'ATG' 'SVN' 'IND' 'BLR' 'UKR' 'VIE'\n",
            " 'GNB' 'GUY' 'BOT' 'LCA' 'TAH' 'GRN' 'HAI' 'LBY' 'LAO' 'MTN' 'CPV' 'SOL'\n",
            " 'BRU' 'LES' 'DOM' 'PAK' 'NCA' 'CUB' 'SEY' 'CTA' 'GAM' 'NAM' 'CAY' 'NEP'\n",
            " 'LIE' 'EQG' 'TPE' 'SRI' 'PHI' 'CHA' 'VAN' 'ARU' 'BAH' 'MDV' 'MAC' 'SVK'\n",
            " 'SKN' 'CZE' 'GEO' 'MKD' 'MDA' 'ARM' 'AZE' 'UZB' 'TKM' 'KAZ' 'TJK' 'KGZ'\n",
            " 'SOM' 'DJI' 'DMA' 'RWA' 'BLZ' 'CAM' 'BIH' 'GUM' 'PNG' 'TGA' 'SAM' 'AND'\n",
            " 'COK' 'VGB' 'AIA' 'STP' 'ERI' 'ASA' 'PLE' 'MNG' 'TCA' 'VIR' 'MSR' 'COD'\n",
            " 'BHU' 'SCG' 'AFG' 'NCL' 'SRB' 'TLS' 'COM' 'MNE' 'CUW' 'SSD' 'KVX' 'GIB']\n",
            "[   0.   1596.13 1563.45 ...   48.45   44.86   34.76]\n",
            "[  57   50   55 ... 1185 1346 1118]\n",
            "[  0   9   5   1  -5  -1  -6   7   2  11   3  -9  -4  16 -10  10  -2  -7\n",
            "   8  30  13 -11  23   4  -3 -27  25  28 -12 -21 -15 -18  18 -16 -23  31\n",
            "  19  21  46 -17  53  15 -29 -13 -20  14 -24 -14  -8   6  12  29  38  33\n",
            "  92  17  22  27  26  24  20  40  37  36  32 -28  41 -30 -34 -46 -41 -38\n",
            " -40 -37 -72 -26 -25  49  42  47  72  34 -19 -43 -31  39 -22  65 -32 -47\n",
            " -36  59  35 -33 -42 -39  55  44  52 -35  48  51  58  57  43  50  45 -45\n",
            " -50  54  60 -53  71  77  69  73  82 -44 -52 -49 -62]\n",
            "[  0.   748.05 589.59 ...  55.99  30.47  29.9 ]\n",
            "[  0.   748.05 589.59 ...  55.99  30.47  29.9 ]\n",
            "[   0.    976.46 1074.04 ...   65.66   65.52   11.74]\n",
            "[  0.   488.23 537.02 ...  32.83  32.76   5.87]\n",
            "[  0.   740.63 796.81 ... 208.25  58.32  35.13]\n",
            "[  0.   222.19 239.04 ...  12.06  13.64  10.54]\n",
            "[  0.   688.31 989.   ...  62.31 170.   162.64]\n",
            "[  0.   137.66 197.8  ...   9.39  34.    32.53]\n",
            "['UEFA' 'CONMEBOL' 'CONCACAF' 'CAF' 'AFC' 'OFC']\n",
            "['1993-08-08T00:00:00.000000000' '1993-09-23T00:00:00.000000000'\n",
            " '1993-10-22T00:00:00.000000000' '1993-11-19T00:00:00.000000000'\n",
            " '1993-12-23T00:00:00.000000000' '1994-02-15T00:00:00.000000000'\n",
            " '1994-03-15T00:00:00.000000000' '1994-04-19T00:00:00.000000000'\n",
            " '1994-05-17T00:00:00.000000000' '1994-06-14T00:00:00.000000000'\n",
            " '1994-07-21T00:00:00.000000000' '1994-09-13T00:00:00.000000000'\n",
            " '1994-10-25T00:00:00.000000000' '1994-11-22T00:00:00.000000000'\n",
            " '1994-12-20T00:00:00.000000000' '1995-02-20T00:00:00.000000000'\n",
            " '1995-04-19T00:00:00.000000000' '1995-05-16T00:00:00.000000000'\n",
            " '1995-06-13T00:00:00.000000000' '1995-07-25T00:00:00.000000000'\n",
            " '1995-08-22T00:00:00.000000000' '1995-09-19T00:00:00.000000000'\n",
            " '1995-10-17T00:00:00.000000000' '1995-11-21T00:00:00.000000000'\n",
            " '1995-12-19T00:00:00.000000000' '1996-01-24T00:00:00.000000000'\n",
            " '1996-02-21T00:00:00.000000000' '1996-04-24T00:00:00.000000000'\n",
            " '1996-05-22T00:00:00.000000000' '1996-07-03T00:00:00.000000000'\n",
            " '1996-08-28T00:00:00.000000000' '1996-09-25T00:00:00.000000000'\n",
            " '1996-10-23T00:00:00.000000000' '1996-11-20T00:00:00.000000000'\n",
            " '1996-12-18T00:00:00.000000000' '1997-02-27T00:00:00.000000000'\n",
            " '1997-04-09T00:00:00.000000000' '1997-05-14T00:00:00.000000000'\n",
            " '1997-06-18T00:00:00.000000000' '1997-07-16T00:00:00.000000000'\n",
            " '1997-08-20T00:00:00.000000000' '1997-09-17T00:00:00.000000000'\n",
            " '1997-10-17T00:00:00.000000000' '1997-11-19T00:00:00.000000000'\n",
            " '1997-12-23T00:00:00.000000000' '1998-02-18T00:00:00.000000000'\n",
            " '1998-03-18T00:00:00.000000000' '1998-04-22T00:00:00.000000000'\n",
            " '1998-05-20T00:00:00.000000000' '1998-07-15T00:00:00.000000000'\n",
            " '1998-08-19T00:00:00.000000000' '1998-09-16T00:00:00.000000000'\n",
            " '1998-10-21T00:00:00.000000000' '1998-11-18T00:00:00.000000000'\n",
            " '1998-12-23T00:00:00.000000000' '1999-01-27T00:00:00.000000000'\n",
            " '1999-02-24T00:00:00.000000000' '1999-03-24T00:00:00.000000000'\n",
            " '1999-04-21T00:00:00.000000000' '1999-05-19T00:00:00.000000000'\n",
            " '1999-06-16T00:00:00.000000000' '1999-07-21T00:00:00.000000000'\n",
            " '1999-08-18T00:00:00.000000000' '1999-09-15T00:00:00.000000000'\n",
            " '1999-10-13T00:00:00.000000000' '1999-11-17T00:00:00.000000000'\n",
            " '1999-12-22T00:00:00.000000000' '2000-01-19T00:00:00.000000000'\n",
            " '2000-02-16T00:00:00.000000000' '2000-03-15T00:00:00.000000000'\n",
            " '2000-04-12T00:00:00.000000000' '2000-05-10T00:00:00.000000000'\n",
            " '2000-06-07T00:00:00.000000000' '2000-07-05T00:00:00.000000000'\n",
            " '2000-08-09T00:00:00.000000000' '2000-09-06T00:00:00.000000000'\n",
            " '2000-10-11T00:00:00.000000000' '2000-11-15T00:00:00.000000000'\n",
            " '2000-12-20T00:00:00.000000000' '2001-01-17T00:00:00.000000000'\n",
            " '2001-02-14T00:00:00.000000000' '2001-03-14T00:00:00.000000000'\n",
            " '2001-04-11T00:00:00.000000000' '2001-05-16T00:00:00.000000000'\n",
            " '2001-06-20T00:00:00.000000000' '2001-07-18T00:00:00.000000000'\n",
            " '2001-08-22T00:00:00.000000000' '2001-09-19T00:00:00.000000000'\n",
            " '2001-10-17T00:00:00.000000000' '2001-11-21T00:00:00.000000000'\n",
            " '2001-12-19T00:00:00.000000000' '2002-01-16T00:00:00.000000000'\n",
            " '2002-02-13T00:00:00.000000000' '2002-03-20T00:00:00.000000000'\n",
            " '2002-04-17T00:00:00.000000000' '2002-05-15T00:00:00.000000000'\n",
            " '2002-07-03T00:00:00.000000000' '2002-08-14T00:00:00.000000000'\n",
            " '2002-09-18T00:00:00.000000000' '2002-10-23T00:00:00.000000000'\n",
            " '2002-11-20T00:00:00.000000000' '2002-12-18T00:00:00.000000000'\n",
            " '2003-01-15T00:00:00.000000000' '2003-02-19T00:00:00.000000000'\n",
            " '2003-03-26T00:00:00.000000000' '2003-04-23T00:00:00.000000000'\n",
            " '2003-05-21T00:00:00.000000000' '2003-06-25T00:00:00.000000000'\n",
            " '2003-07-30T00:00:00.000000000' '2003-08-27T00:00:00.000000000'\n",
            " '2003-09-24T00:00:00.000000000' '2003-10-22T00:00:00.000000000'\n",
            " '2003-11-19T00:00:00.000000000' '2003-12-15T00:00:00.000000000'\n",
            " '2004-01-14T00:00:00.000000000' '2004-02-18T00:00:00.000000000'\n",
            " '2004-03-17T00:00:00.000000000' '2004-04-14T00:00:00.000000000'\n",
            " '2004-05-12T00:00:00.000000000' '2004-06-09T00:00:00.000000000'\n",
            " '2004-07-07T00:00:00.000000000' '2004-08-04T00:00:00.000000000'\n",
            " '2004-09-01T00:00:00.000000000' '2004-10-06T00:00:00.000000000'\n",
            " '2004-11-10T00:00:00.000000000' '2004-12-20T00:00:00.000000000'\n",
            " '2005-01-19T00:00:00.000000000' '2005-02-16T00:00:00.000000000'\n",
            " '2005-03-23T00:00:00.000000000' '2005-04-20T00:00:00.000000000'\n",
            " '2005-05-18T00:00:00.000000000' '2005-06-15T00:00:00.000000000'\n",
            " '2005-07-20T00:00:00.000000000' '2005-08-17T00:00:00.000000000'\n",
            " '2005-09-12T00:00:00.000000000' '2005-10-17T00:00:00.000000000'\n",
            " '2005-11-21T00:00:00.000000000' '2005-12-16T00:00:00.000000000'\n",
            " '2006-01-18T00:00:00.000000000' '2006-02-15T00:00:00.000000000'\n",
            " '2006-03-15T00:00:00.000000000' '2006-04-19T00:00:00.000000000'\n",
            " '2006-05-17T00:00:00.000000000' '2006-07-12T00:00:00.000000000'\n",
            " '2006-08-16T00:00:00.000000000' '2006-09-13T00:00:00.000000000'\n",
            " '2006-10-18T00:00:00.000000000' '2006-11-22T00:00:00.000000000'\n",
            " '2006-12-18T00:00:00.000000000' '2007-01-17T00:00:00.000000000'\n",
            " '2007-02-14T00:00:00.000000000' '2007-03-14T00:00:00.000000000'\n",
            " '2007-04-18T00:00:00.000000000' '2007-05-16T00:00:00.000000000'\n",
            " '2007-06-13T00:00:00.000000000' '2007-07-18T00:00:00.000000000'\n",
            " '2007-08-22T00:00:00.000000000' '2007-09-19T00:00:00.000000000'\n",
            " '2007-10-24T00:00:00.000000000' '2007-11-23T00:00:00.000000000'\n",
            " '2007-12-17T00:00:00.000000000' '2008-01-16T00:00:00.000000000'\n",
            " '2008-02-13T00:00:00.000000000' '2008-03-12T00:00:00.000000000'\n",
            " '2008-04-09T00:00:00.000000000' '2008-05-07T00:00:00.000000000'\n",
            " '2008-06-04T00:00:00.000000000' '2008-07-02T00:00:00.000000000'\n",
            " '2008-08-06T00:00:00.000000000' '2008-09-03T00:00:00.000000000'\n",
            " '2008-10-08T00:00:00.000000000' '2008-11-12T00:00:00.000000000'\n",
            " '2008-12-17T00:00:00.000000000' '2009-01-14T00:00:00.000000000'\n",
            " '2009-02-11T00:00:00.000000000' '2009-03-11T00:00:00.000000000'\n",
            " '2009-04-08T00:00:00.000000000' '2009-05-06T00:00:00.000000000'\n",
            " '2009-06-03T00:00:00.000000000' '2009-07-01T00:00:00.000000000'\n",
            " '2009-08-05T00:00:00.000000000' '2009-09-02T00:00:00.000000000'\n",
            " '2009-10-16T00:00:00.000000000' '2009-11-20T00:00:00.000000000'\n",
            " '2009-12-16T00:00:00.000000000' '2010-02-03T00:00:00.000000000'\n",
            " '2010-03-03T00:00:00.000000000' '2010-03-31T00:00:00.000000000'\n",
            " '2010-04-28T00:00:00.000000000' '2010-05-26T00:00:00.000000000'\n",
            " '2010-07-14T00:00:00.000000000' '2010-08-11T00:00:00.000000000'\n",
            " '2010-09-15T00:00:00.000000000' '2010-10-20T00:00:00.000000000'\n",
            " '2010-11-17T00:00:00.000000000' '2010-12-15T00:00:00.000000000'\n",
            " '2011-01-12T00:00:00.000000000' '2011-02-02T00:00:00.000000000'\n",
            " '2011-03-09T00:00:00.000000000' '2011-04-13T00:00:00.000000000'\n",
            " '2011-05-18T00:00:00.000000000' '2011-06-29T00:00:00.000000000'\n",
            " '2011-07-27T00:00:00.000000000' '2011-08-24T00:00:00.000000000'\n",
            " '2011-09-21T00:00:00.000000000' '2011-10-19T00:00:00.000000000'\n",
            " '2011-11-23T00:00:00.000000000' '2011-12-21T00:00:00.000000000'\n",
            " '2012-01-18T00:00:00.000000000' '2012-02-15T00:00:00.000000000'\n",
            " '2012-03-07T00:00:00.000000000' '2012-04-11T00:00:00.000000000'\n",
            " '2012-05-09T00:00:00.000000000' '2012-06-06T00:00:00.000000000'\n",
            " '2012-07-04T00:00:00.000000000' '2012-08-08T00:00:00.000000000'\n",
            " '2012-09-05T00:00:00.000000000' '2012-10-03T00:00:00.000000000'\n",
            " '2012-11-07T00:00:00.000000000' '2012-12-19T00:00:00.000000000'\n",
            " '2013-01-17T00:00:00.000000000' '2013-02-14T00:00:00.000000000'\n",
            " '2013-03-14T00:00:00.000000000' '2013-04-11T00:00:00.000000000'\n",
            " '2013-05-09T00:00:00.000000000' '2013-06-06T00:00:00.000000000'\n",
            " '2013-07-04T00:00:00.000000000' '2013-08-08T00:00:00.000000000'\n",
            " '2013-09-12T00:00:00.000000000' '2013-10-17T00:00:00.000000000'\n",
            " '2013-11-28T00:00:00.000000000' '2013-12-19T00:00:00.000000000'\n",
            " '2014-01-16T00:00:00.000000000' '2014-02-13T00:00:00.000000000'\n",
            " '2014-03-13T00:00:00.000000000' '2014-04-10T00:00:00.000000000'\n",
            " '2014-05-08T00:00:00.000000000' '2014-06-05T00:00:00.000000000'\n",
            " '2014-07-17T00:00:00.000000000' '2014-08-14T00:00:00.000000000'\n",
            " '2014-09-18T00:00:00.000000000' '2014-10-23T00:00:00.000000000'\n",
            " '2014-11-27T00:00:00.000000000' '2014-12-18T00:00:00.000000000'\n",
            " '2015-01-08T00:00:00.000000000' '2015-02-12T00:00:00.000000000'\n",
            " '2015-03-12T00:00:00.000000000' '2015-04-09T00:00:00.000000000'\n",
            " '2015-05-07T00:00:00.000000000' '2015-06-04T00:00:00.000000000'\n",
            " '2015-07-09T00:00:00.000000000' '2015-08-06T00:00:00.000000000'\n",
            " '2015-09-03T00:00:00.000000000' '2015-10-01T00:00:00.000000000'\n",
            " '2015-11-05T00:00:00.000000000' '2015-12-03T00:00:00.000000000'\n",
            " '2016-01-07T00:00:00.000000000' '2016-02-04T00:00:00.000000000'\n",
            " '2016-03-03T00:00:00.000000000' '2016-04-07T00:00:00.000000000'\n",
            " '2016-05-05T00:00:00.000000000' '2016-06-02T00:00:00.000000000'\n",
            " '2016-07-14T00:00:00.000000000' '2016-08-11T00:00:00.000000000'\n",
            " '2016-09-15T00:00:00.000000000' '2016-10-20T00:00:00.000000000'\n",
            " '2016-11-24T00:00:00.000000000' '2016-12-22T00:00:00.000000000'\n",
            " '2017-01-12T00:00:00.000000000' '2017-02-09T00:00:00.000000000'\n",
            " '2017-03-09T00:00:00.000000000' '2017-04-06T00:00:00.000000000'\n",
            " '2017-05-04T00:00:00.000000000' '2017-06-01T00:00:00.000000000'\n",
            " '2017-07-06T00:00:00.000000000' '2017-08-10T00:00:00.000000000'\n",
            " '2017-09-14T00:00:00.000000000' '2017-10-16T00:00:00.000000000'\n",
            " '2017-11-23T00:00:00.000000000' '2017-12-21T00:00:00.000000000'\n",
            " '2018-01-18T00:00:00.000000000' '2018-02-15T00:00:00.000000000'\n",
            " '2018-03-15T00:00:00.000000000' '2018-04-12T00:00:00.000000000'\n",
            " '2018-05-17T00:00:00.000000000' '2018-06-07T00:00:00.000000000']\n",
            "--------------------------------------\n",
            "Result anomalies\n",
            "['1872-11-30T00:00:00.000000000' '1873-03-08T00:00:00.000000000'\n",
            " '1874-03-07T00:00:00.000000000' ... '2019-07-18T00:00:00.000000000'\n",
            " '2019-07-19T00:00:00.000000000' '2019-07-20T00:00:00.000000000']\n",
            "['Scotland' 'England' 'Wales' 'Northern Ireland' 'United States' 'Uruguay'\n",
            " 'Austria' 'Hungary' 'Argentina' 'Belgium' 'France' 'Netherlands'\n",
            " 'Czechoslovakia' 'Switzerland' 'Sweden' 'Germany' 'Italy' 'Chile'\n",
            " 'Norway' 'Finland' 'Luxembourg' 'Russia' 'Denmark' 'Catalonia'\n",
            " 'Basque Country' 'Brazil' 'Japan' 'Paraguay' 'Canada' 'Estonia'\n",
            " 'Costa Rica' 'Guatemala' 'Spain' 'Brittany' 'Poland' 'Yugoslavia'\n",
            " 'New Zealand' 'Romania' 'Latvia' 'Galicia' 'Portugal' 'Andalusia'\n",
            " 'China PR' 'Australia' 'Lithuania' 'Turkey' 'Central Spain' 'Mexico'\n",
            " 'Aruba' 'Egypt' 'Haiti' 'Philippines' 'Bulgaria' 'Jamaica' 'Kenya'\n",
            " 'Bolivia' 'Peru' 'Honduras' 'Guyana' 'Uganda' 'Belarus' 'El Salvador'\n",
            " 'Barbados' 'Republic of Ireland' 'Trinidad and Tobago' 'Greece' 'Curaçao'\n",
            " 'Dominica' 'Silesia' 'Guadeloupe' 'Israel' 'Suriname' 'French Guiana'\n",
            " 'Cuba' 'Colombia' 'Ecuador' 'Saint Kitts and Nevis' 'Panama' 'Slovakia'\n",
            " 'Manchukuo' 'Croatia' 'Nicaragua' 'Afghanistan' 'India' 'Martinique'\n",
            " 'Zimbabwe' 'Iceland' 'Albania' 'Madagascar' 'Zambia' 'Mauritius'\n",
            " 'Tanzania' 'Iran' 'Djibouti' 'DR Congo' 'Vietnam' 'Macau' 'Ethiopia'\n",
            " 'Puerto Rico' 'Réunion' 'Sierra Leone' 'Zanzibar' 'South Korea' 'Ghana'\n",
            " 'South Africa' 'New Caledonia' 'Fiji' 'Nigeria' 'Venezuela' 'Burma'\n",
            " 'Sri Lanka' 'Tahiti' 'Gambia' 'Hong Kong' 'Singapore' 'Malaysia'\n",
            " 'Indonesia' 'Guinea-Bissau' 'German DR' 'Vanuatu' 'Kernow' 'Saarland'\n",
            " 'Cambodia' 'Lebanon' 'Pakistan' 'Vietnam Republic' 'North Korea' 'Togo'\n",
            " 'Sudan' 'Malta' 'Syria' 'Tunisia' 'Malawi' 'Morocco' 'Benin' 'Cameroon'\n",
            " 'Central African Republic' 'Gabon' 'Ivory Coast' 'Congo' 'Mali'\n",
            " 'North Vietnam' 'Mongolia' 'Chinese Taipei' 'Cyprus' 'Iraq' 'Saint Lucia'\n",
            " 'Grenada' 'Thailand' 'Senegal' 'Libya' 'Guinea' 'Algeria' 'Kuwait'\n",
            " 'Jordan' 'Solomon Islands' 'Liberia' 'Laos'\n",
            " 'Saint Vincent and the Grenadines' 'Bermuda' 'Niger' 'Bahrain'\n",
            " 'Montenegro' 'Palestine' 'Papua New Guinea' 'Burkina Faso' 'Mauritania'\n",
            " 'Saudi Arabia' 'Eswatini' 'Somalia' 'Lesotho' 'Cook Islands' 'Qatar'\n",
            " 'Antigua and Barbuda' 'Faroe Islands' 'Bangladesh' 'Oman' 'Yemen DPR'\n",
            " 'Burundi' 'Yemen' 'Mozambique' 'Guam' 'Chad' 'Angola'\n",
            " 'Dominican Republic' 'Seychelles' 'Rwanda' 'São Tomé and Príncipe'\n",
            " 'Botswana' 'Northern Cyprus' 'Cape Verde' 'Kyrgyzstan' 'Georgia'\n",
            " 'Azerbaijan' 'Kiribati' 'Tonga' 'Wallis Islands and Futuna'\n",
            " 'United Arab Emirates' 'Brunei' 'Equatorial Guinea' 'Liechtenstein'\n",
            " 'Nepal' 'Greenland' 'Niue' 'Samoa' 'American Samoa' 'Belize' 'Anguilla'\n",
            " 'Cayman Islands' 'Palau' 'Sint Maarten' 'Namibia' 'Åland Islands'\n",
            " 'Ynys Môn' 'Saint Martin' 'San Marino' 'Slovenia' 'Jersey' 'Shetland'\n",
            " 'Isle of Wight' 'Moldova' 'Ukraine' 'Kazakhstan' 'Tajikistan'\n",
            " 'Uzbekistan' 'Turkmenistan' 'Armenia' 'Czech Republic' 'Guernsey'\n",
            " 'Gibraltar' 'Isle of Man' 'North Macedonia' 'Montserrat' 'Serbia'\n",
            " 'Canary Islands' 'Bosnia and Herzegovina' 'Maldives' 'Andorra'\n",
            " 'British Virgin Islands' 'Frøya' 'Hitra' 'U.S. Virgin Islands' 'Corsica'\n",
            " 'Eritrea' 'Bahamas' 'Gotland' 'Saare County' 'Rhodes' 'Micronesia'\n",
            " 'Bhutan' 'Orkney' 'Monaco' 'Tuvalu' 'Sark' 'Alderney' 'Mayotte'\n",
            " 'Turks and Caicos Islands' 'East Timor' 'Western Isles'\n",
            " 'Falkland Islands' 'Kosovo' 'Republic of St. Pauli' 'Găgăuzia' 'Tibet'\n",
            " 'Crimea' 'Occitania' 'Sápmi' 'Northern Mariana Islands' 'Menorca'\n",
            " 'Comoros' 'Provence' 'Arameans Suryoye' 'Padania' 'Iraqi Kurdistan'\n",
            " 'Gozo' 'Bonaire' 'Western Sahara' 'Raetia' 'Darfur' 'Tamil Eelam'\n",
            " 'South Sudan' 'Abkhazia' 'St. Pierre & Miquelon' 'Artsakh' 'Madrid'\n",
            " 'Vatican City' 'Ellan Vannin' 'South Ossetia' 'County of Nice'\n",
            " 'Székely Land' 'Romani people' 'Felvidék' 'Chagos Islands'\n",
            " 'United Koreans in Japan' 'Somaliland' 'Western Armenia' 'Barawa'\n",
            " 'Kárpátalja' 'Yorkshire' 'Panjab' 'Matabeleland' 'Cascadia' 'Kabylia'\n",
            " 'Timor-Leste' 'Myanmar' 'Parishes of Jersey' 'Chameria' 'Saint Helena'\n",
            " 'Curacao']\n",
            "['England' 'Scotland' 'Wales' 'Northern Ireland' 'Canada' 'Argentina'\n",
            " 'Hungary' 'Czechoslovakia' 'Uruguay' 'France' 'Austria' 'Switzerland'\n",
            " 'Netherlands' 'Belgium' 'Germany' 'Norway' 'Sweden' 'Italy' 'Chile'\n",
            " 'Catalonia' 'Finland' 'Russia' 'Luxembourg' 'Denmark' 'Brazil'\n",
            " 'Basque Country' 'United States' 'Philippines' 'Estonia' 'Provence'\n",
            " 'El Salvador' 'Costa Rica' 'Paraguay' 'Yugoslavia' 'Poland' 'Portugal'\n",
            " 'Spain' 'Romania' 'Australia' 'Central Spain' 'Mexico' 'Galicia'\n",
            " 'Brittany' 'Asturias' 'China PR' 'New Zealand' 'Latvia' 'Guatemala'\n",
            " 'Curaçao' 'Bulgaria' 'Lithuania' 'Turkey' 'Egypt' 'South Africa'\n",
            " 'Jamaica' 'Japan' 'Republic of Ireland' 'Uganda' 'Bolivia' 'Haiti'\n",
            " 'Trinidad and Tobago' 'Kenya' 'Ukraine' 'Honduras' 'Nicaragua' 'Greece'\n",
            " 'Guyana' 'Peru' 'Aruba' 'Martinique' 'Barbados' 'Cuba' 'Israel'\n",
            " 'Indonesia' 'Suriname' 'Saint Lucia' 'Ecuador' 'Venezuela' 'Grenada'\n",
            " 'India' 'Panama' 'Slovakia' 'Croatia' 'Lebanon' 'Manchukuo' 'Puerto Rico'\n",
            " 'Iran' 'Guadeloupe' 'Mongolia' 'Colombia' 'Tanzania' 'Zambia'\n",
            " 'Montenegro' 'Mauritius' 'Zimbabwe' 'French Guiana' 'Réunion' 'Albania'\n",
            " 'Zanzibar' 'Ethiopia' 'Madagascar' 'Dominica' 'South Korea' 'Djibouti'\n",
            " 'Dominican Republic' 'Cyprus' 'Iceland' 'Nigeria' 'Syria' 'DR Congo'\n",
            " 'Serbia' 'Chinese Taipei' 'Afghanistan' 'Vanuatu' 'Ghana' 'Pakistan'\n",
            " 'German DR' 'Sierra Leone' 'Guinea-Bissau' 'Gambia' 'Saarland' 'Tahiti'\n",
            " 'Burundi' 'Sri Lanka' 'Thailand' 'Burma' 'New Caledonia' 'Cambodia'\n",
            " 'Malaysia' 'Vietnam Republic' 'Kyrgyzstan' 'Belarus' 'Moldova'\n",
            " 'North Vietnam' 'Togo' 'North Korea' 'Sudan' 'Libya' 'Hong Kong'\n",
            " 'Singapore' 'Malta' 'Benin' 'Cape Verde' 'Mali' 'Burkina Faso'\n",
            " 'Ivory Coast' 'Cameroon' 'Iraq' 'Tunisia' 'Morocco'\n",
            " 'Saint Vincent and the Grenadines' 'Guinea' 'Congo' 'Gabon' 'Malawi'\n",
            " 'Jordan' 'Senegal' 'Kuwait' 'Papua New Guinea' 'Solomon Islands'\n",
            " 'Liberia' 'Somalia' 'Laos' 'Saudi Arabia' 'Algeria' 'Chad'\n",
            " 'Central African Republic' 'Bermuda' 'Palestine' 'Yemen' 'Bahrain'\n",
            " 'Wallis Islands and Futuna' 'Niger' 'Corsica' 'Western Australia'\n",
            " 'Botswana' 'Fiji' 'Eswatini' 'Qatar' 'Lesotho' 'Bahamas' 'Brunei'\n",
            " 'Cook Islands' 'Yemen DPR' 'United Arab Emirates' 'Faroe Islands' 'Nepal'\n",
            " 'Antigua and Barbuda' 'Bangladesh' 'Seychelles' 'Oman'\n",
            " 'Equatorial Guinea' 'Mozambique' 'Mauritania' 'Angola'\n",
            " 'São Tomé and Príncipe' 'Macau' 'Saint Kitts and Nevis' 'Armenia'\n",
            " 'Kazakhstan' 'Tonga' 'Kiribati' 'Tuvalu' 'Samoa' 'Greenland'\n",
            " 'Northern Cyprus' 'Rwanda' 'Liechtenstein' 'Bhutan' 'American Samoa'\n",
            " 'Cayman Islands' 'British Virgin Islands' 'Sint Maarten' 'Ynys Môn'\n",
            " 'Shetland' 'Åland Islands' 'Saint Martin' 'San Marino' 'Montserrat'\n",
            " 'Anguilla' 'Guernsey' 'Isle of Wight' 'Jersey' 'Georgia' 'Guam'\n",
            " 'Turkmenistan' 'Slovenia' 'Uzbekistan' 'Eritrea' 'Tajikistan' 'Namibia'\n",
            " 'Azerbaijan' 'Czech Republic' 'Vietnam' 'Isle of Man' 'Gibraltar'\n",
            " 'North Macedonia' 'Belize' 'Bosnia and Herzegovina' 'Maldives' 'Andorra'\n",
            " 'Frøya' 'Hitra' 'Northern Mariana Islands' 'Kernow'\n",
            " 'Turks and Caicos Islands' 'U.S. Virgin Islands' 'Micronesia'\n",
            " 'Saare County' 'Rhodes' 'Tibet' 'Orkney' 'Falkland Islands' 'Mayotte'\n",
            " 'Monaco' 'Vatican City' 'East Timor' 'Gotland' 'Alderney' 'Sark'\n",
            " 'Western Isles' 'Sápmi' 'Crimea' 'Comoros' 'Menorca' 'Iraqi Kurdistan'\n",
            " 'Padania' 'Arameans Suryoye' 'Occitania' 'Gozo' 'Two Sicilies'\n",
            " 'St. Pierre & Miquelon' 'Bonaire' 'Western Sahara' 'Raetia' 'Darfur'\n",
            " 'Tamil Eelam' 'Artsakh' 'Abkhazia' 'South Sudan' 'Andalusia'\n",
            " 'South Ossetia' 'County of Nice' 'Ellan Vannin' 'Romani people'\n",
            " 'Felvidék' 'Chagos Islands' 'Székely Land' 'Somaliland' 'Western Armenia'\n",
            " 'Panjab' 'Kosovo' 'Kárpátalja' 'Yorkshire' 'Surrey' 'Cascadia'\n",
            " 'Matabeleland' 'Kabylia' 'United Koreans in Japan' 'Timor-Leste'\n",
            " 'Myanmar' 'Barawa' 'Parishes of Jersey' 'Chameria' 'Saint Helena'\n",
            " 'Curacao']\n",
            "[ 0  4  2  3  1  7  9  5  6  8 11 13 12 10 15 14 30 24 18 16 19 20 17 22\n",
            " 31 21]\n",
            "[ 0  2  1  3  4  6  5 13  8  7 10  9 11 12 15 18 16 14 19 20 17 21]\n",
            "['Friendly' 'British Championship' 'Copa Lipton' 'Copa Newton'\n",
            " 'Copa Premio Honor Argentino' 'Copa Premio Honor Uruguayo' 'Copa Roca'\n",
            " 'Copa América' 'Copa Chevallier Boutell' 'Nordic Championship'\n",
            " 'International Cup' 'Baltic Cup' 'Balkan Cup' 'FIFA World Cup'\n",
            " 'Copa Rio Branco' 'FIFA World Cup qualification' 'CCCF Championship'\n",
            " 'NAFU Championship' 'Copa Oswaldo Cruz' 'Pan American Championship'\n",
            " 'Copa del Pacífico' \"Copa Bernardo O'Higgins\"\n",
            " 'AFC Asian Cup qualification' 'Atlantic Cup' 'AFC Asian Cup'\n",
            " 'African Cup of Nations' 'Copa Paz del Chaco' 'Merdeka Tournament'\n",
            " 'UEFA Euro qualification' 'UEFA Euro' 'Windward Islands Tournament'\n",
            " 'African Cup of Nations qualification' 'Vietnam Independence Cup'\n",
            " 'Copa Carlos Dittborn' 'CONCACAF Championship' 'Copa Juan Pinto Durán'\n",
            " 'UAFA Cup' 'South Pacific Games' 'CONCACAF Championship qualification'\n",
            " 'Copa Artigas' 'GaNEFo' \"King's Cup\" 'Gulf Cup' 'Indonesia Tournament'\n",
            " 'Korea Cup' 'Brazil Independence Cup' 'Copa Ramón Castilla'\n",
            " 'Oceania Nations Cup' 'CECAFA Cup' 'Copa Félix Bogado' 'Kirin Cup'\n",
            " 'CFU Caribbean Cup qualification' 'CFU Caribbean Cup'\n",
            " 'Amílcar Cabral Cup' 'Mundialito' 'West African Cup' 'Nehru Cup'\n",
            " 'Merlion Cup' 'UDEAC Cup' 'Rous Cup' 'Lunar New Year Cup'\n",
            " 'Tournoi de France' 'Malta International Tournament' 'Island Games'\n",
            " 'Dynasty Cup' 'UNCAF Cup' 'Gold Cup' 'USA Cup'\n",
            " 'Jordan International Tournament' 'Confederations Cup'\n",
            " 'United Arab Emirates Friendship Tournament'\n",
            " 'Oceania Nations Cup qualification' 'Simba Tournament' 'SAFF Cup'\n",
            " 'AFF Championship' 'King Hassan II Tournament'\n",
            " 'Cyprus International Tournament' 'Dunhill Cup' 'COSAFA Cup'\n",
            " 'Gold Cup qualification' 'SKN Football Festival' 'UNIFFAC Cup'\n",
            " 'WAFF Championship' 'Millennium Cup' \"Prime Minister's Cup\"\n",
            " 'EAFF Championship' 'AFC Challenge Cup' 'FIFI Wild Cup' 'ELF Cup'\n",
            " 'Viva World Cup' 'UAFA Cup qualification'\n",
            " 'AFC Challenge Cup qualification' 'African Nations Championship'\n",
            " 'VFF Cup' 'Dragon Cup' 'ABCS Tournament' 'Nile Basin Tournament'\n",
            " 'Nations Cup' 'Pacific Games' 'OSN Cup' 'CONIFA World Football Cup'\n",
            " 'CONIFA European Football Cup' 'Copa América qualification'\n",
            " 'World Unity Cup' 'Intercontinental Cup' 'AFF Championship qualification'\n",
            " 'UEFA Nations League' 'Atlantic Heritage Cup'\n",
            " 'Inter Games Football Tournament']\n",
            "['Glasgow' 'London' 'Wrexham' ... 'New Jersey' 'Ahmedabad' 'Ismaila']\n",
            "['Scotland' 'England' 'Wales' 'Republic of Ireland' 'United States'\n",
            " 'Uruguay' 'Austria' 'Hungary' 'Argentina' 'Belgium' 'France'\n",
            " 'Netherlands' 'Bohemia' 'Switzerland' 'Sweden' 'Germany' 'Italy' 'Chile'\n",
            " 'Norway' 'Finland' 'Luxembourg' 'Russia' 'Denmark' 'Spain' 'Japan'\n",
            " 'Brazil' 'Paraguay' 'China PR' 'Canada' 'Estonia' 'Guatemala'\n",
            " 'Czechoslovakia' 'Poland' 'Yugoslavia' 'New Zealand' 'Romania' 'Latvia'\n",
            " 'Portugal' 'Northern Ireland' 'Australia' 'Lithuania' 'Turkey' 'Mexico'\n",
            " 'Aruba' 'Soviet Union' 'Haiti' 'Philippines' 'Bulgaria' 'Jamaica' 'Kenya'\n",
            " 'Czech Republic' 'Peru' 'Honduras' 'British Guyana' 'Uganda'\n",
            " 'El Salvador' 'Barbados' 'Irish Free State' 'Trinidad and Tobago'\n",
            " 'Greece' 'Curaçao' 'Egypt' 'Dominica' 'Guadeloupe' 'Palestine'\n",
            " 'Netherlands Guyana' 'French Guiana' 'Cuba' 'Colombia'\n",
            " 'Saint Kitts and Nevis' 'Éire' 'Panama' 'Bohemia and Moravia' 'Slovakia'\n",
            " 'Manchuria' 'Croatia' 'Costa Rica' 'Afghanistan' 'Martinique'\n",
            " 'Southern Rhodesia' 'Iceland' 'Albania' 'Madagascar' 'Northern Rhodesia'\n",
            " 'Tanganyika' 'Iran' 'Ecuador' 'French Somaliland' 'Belgian Congo'\n",
            " 'Mauritius' 'Hong Kong' 'Vietnam' 'Macau' 'Ethiopia' 'Suriname'\n",
            " 'Puerto Rico' 'Réunion' 'Israel' 'Sierra Leone' 'Zanzibar' 'Bolivia'\n",
            " 'Gold Coast' 'South Africa' 'Netherlands Antilles' 'New Caledonia' 'Fiji'\n",
            " 'Nigeria' 'Venezuela' 'Ceylon' 'French Polynesia' 'Gambia' 'Singapore'\n",
            " 'Portuguese Guinea' 'German DR' 'New Hebrides' 'Burma' 'Saarland'\n",
            " 'Cambodia' 'India' 'Lebanon' 'Pakistan' 'Malaya' 'South Korea'\n",
            " 'Vietnam Republic' 'Togo' 'Indonesia' 'Sudan' 'Malta' 'Syria' 'Tunisia'\n",
            " 'Nyasaland' 'Ghana' 'Morocco' 'United Arab Republic' 'North Korea'\n",
            " 'Dahomey' 'Guinea-Bissau' 'Mali Federation' 'Mali' 'Vietnam DR' 'Cyprus'\n",
            " 'Iraq' 'Saint Lucia' 'Senegal' 'Libya' 'Gabon' 'Thailand' 'Congo'\n",
            " 'Tanzania' 'Grenada' 'Guinea' 'Central African Republic' 'Cameroon'\n",
            " 'Algeria' 'Kuwait' 'Ivory Coast' 'Lautoka' 'Liberia' 'Malaysia' 'Jordan'\n",
            " 'Zambia' 'Saint Vincent and the Grenadines' 'Bermuda' 'Niger' 'Malawi'\n",
            " 'DR Congo' 'Upper Volta' 'Chinese Taipei' 'Guyana' 'Mauritania'\n",
            " 'Rhodesia' 'Saudi Arabia' 'Eswatini' 'Mozambique' 'Papua New Guinea'\n",
            " 'Bahrain' 'Lesotho' 'Somalia' 'Zaïre' 'Sri Lanka' 'Antigua and Barbuda'\n",
            " 'Faroe Islands' 'Qatar' 'Yemen DPR' 'Burundi' 'Guam' 'Chad' 'Angola'\n",
            " 'Dominican Republic' 'Seychelles' 'São Tomé and Príncipe' 'Botswana'\n",
            " 'Benin' 'Rwanda' 'Bangladesh' 'United Arab Emirates' 'Zimbabwe' 'Oman'\n",
            " 'Equatorial Guinea' 'Cape Verde' 'Liechtenstein' 'Nepal' 'Greenland'\n",
            " 'Vanuatu' 'Western Samoa' 'Belize' 'Brunei' 'Djibouti' 'Burkina Faso'\n",
            " 'Yemen AR' 'Anguilla' 'Nicaragua' 'Cayman Islands' 'Monaco'\n",
            " 'Solomon Islands' 'Sint Maarten' 'Namibia' 'Saint Martin' 'San Marino'\n",
            " 'Slovenia' 'Moldova' 'Ukraine' 'Kazakhstan' 'Tajikistan' 'Uzbekistan'\n",
            " 'Turkmenistan' 'Georgia' 'Kyrgyzstan' 'Armenia' 'Belarus' 'Guernsey'\n",
            " 'Azerbaijan' 'North Macedonia' 'Jersey' 'Montserrat' 'Gibraltar'\n",
            " 'Bosnia and Herzegovina' 'Tonga' 'Andorra' 'Yemen' 'U.S. Virgin Islands'\n",
            " 'Palau' 'Cook Islands' 'British Virgin Islands' 'Eritrea' 'Bahamas'\n",
            " 'Micronesia' 'Maldives' 'Laos' 'Isle of Man' 'Samoa' 'Bhutan'\n",
            " 'Serbia and Montenegro' 'Mayotte' 'Mongolia' 'Northern Cyprus' 'Serbia'\n",
            " 'Montenegro' 'Northern Mariana Islands' 'Comoros'\n",
            " 'Turks and Caicos Islands' 'South Sudan' 'Kosovo' 'East Timor' 'Tahiti'\n",
            " 'Myanmar']\n",
            "[False  True]\n"
          ]
        }
      ]
    },
    {
      "cell_type": "code",
      "metadata": {
        "id": "Nn-iwbJClrVl",
        "colab": {
          "base_uri": "https://localhost:8080/",
          "height": 167
        },
        "outputId": "a3c267a6-a7e3-4e4c-a364-d9be15e931e6"
      },
      "source": [
        "# feature engineering to determine the most relevant predictor variables and which target variable they would have an effect on\n",
        "# target variable will be the scores and independent variables will be home team,away team, tournament type and the game rankings\n",
        "# since elo rating system is used, that entails adding or subtracting points from a team's pre-existing points,\n",
        "# we see that the total oints determining rank are a summation of the weighted average points over 4 years\n",
        "ranking.head(2)"
      ],
      "execution_count": 14,
      "outputs": [
        {
          "output_type": "execute_result",
          "data": {
            "text/html": [
              "<div>\n",
              "<style scoped>\n",
              "    .dataframe tbody tr th:only-of-type {\n",
              "        vertical-align: middle;\n",
              "    }\n",
              "\n",
              "    .dataframe tbody tr th {\n",
              "        vertical-align: top;\n",
              "    }\n",
              "\n",
              "    .dataframe thead th {\n",
              "        text-align: right;\n",
              "    }\n",
              "</style>\n",
              "<table border=\"1\" class=\"dataframe\">\n",
              "  <thead>\n",
              "    <tr style=\"text-align: right;\">\n",
              "      <th></th>\n",
              "      <th>rank</th>\n",
              "      <th>country_full</th>\n",
              "      <th>country_abrv</th>\n",
              "      <th>total_points</th>\n",
              "      <th>previous_points</th>\n",
              "      <th>rank_change</th>\n",
              "      <th>cur_year_avg</th>\n",
              "      <th>cur_year_avg_weighted</th>\n",
              "      <th>last_year_avg</th>\n",
              "      <th>last_year_avg_weighted</th>\n",
              "      <th>two_year_ago_avg</th>\n",
              "      <th>two_year_ago_weighted</th>\n",
              "      <th>three_year_ago_avg</th>\n",
              "      <th>three_year_ago_weighted</th>\n",
              "      <th>confederation</th>\n",
              "      <th>rank_date</th>\n",
              "    </tr>\n",
              "  </thead>\n",
              "  <tbody>\n",
              "    <tr>\n",
              "      <th>0</th>\n",
              "      <td>1</td>\n",
              "      <td>Germany</td>\n",
              "      <td>GER</td>\n",
              "      <td>0.0</td>\n",
              "      <td>57</td>\n",
              "      <td>0</td>\n",
              "      <td>0.0</td>\n",
              "      <td>0.0</td>\n",
              "      <td>0.0</td>\n",
              "      <td>0.0</td>\n",
              "      <td>0.0</td>\n",
              "      <td>0.0</td>\n",
              "      <td>0.0</td>\n",
              "      <td>0.0</td>\n",
              "      <td>UEFA</td>\n",
              "      <td>1993-08-08</td>\n",
              "    </tr>\n",
              "    <tr>\n",
              "      <th>1</th>\n",
              "      <td>2</td>\n",
              "      <td>Italy</td>\n",
              "      <td>ITA</td>\n",
              "      <td>0.0</td>\n",
              "      <td>57</td>\n",
              "      <td>0</td>\n",
              "      <td>0.0</td>\n",
              "      <td>0.0</td>\n",
              "      <td>0.0</td>\n",
              "      <td>0.0</td>\n",
              "      <td>0.0</td>\n",
              "      <td>0.0</td>\n",
              "      <td>0.0</td>\n",
              "      <td>0.0</td>\n",
              "      <td>UEFA</td>\n",
              "      <td>1993-08-08</td>\n",
              "    </tr>\n",
              "  </tbody>\n",
              "</table>\n",
              "</div>"
            ],
            "text/plain": [
              "   rank country_full  ... confederation  rank_date\n",
              "0     1      Germany  ...          UEFA 1993-08-08\n",
              "1     2        Italy  ...          UEFA 1993-08-08\n",
              "\n",
              "[2 rows x 16 columns]"
            ]
          },
          "metadata": {},
          "execution_count": 14
        }
      ]
    },
    {
      "cell_type": "markdown",
      "metadata": {
        "id": "8QKtBv12VSRv"
      },
      "source": [
        "Ranking formula:\n",
        "\n",
        "Results for all matches played in the year are averaged together (assuming at least five matches have been played). The average ranking points for the four previous years, weighted by their multiplier mentioned above, are added together to arrive at the final ranking points"
      ]
    },
    {
      "cell_type": "code",
      "metadata": {
        "id": "ynt2nCwevU9R",
        "colab": {
          "base_uri": "https://localhost:8080/",
          "height": 206
        },
        "outputId": "57a8cd93-d9bc-49e5-9c0f-5fefa15fbe02"
      },
      "source": [
        "# Selected ranking variables are\n",
        "ranking1 = ranking[['rank','country_full','total_points','rank_date']]\n",
        "ranking1.head()"
      ],
      "execution_count": 15,
      "outputs": [
        {
          "output_type": "execute_result",
          "data": {
            "text/html": [
              "<div>\n",
              "<style scoped>\n",
              "    .dataframe tbody tr th:only-of-type {\n",
              "        vertical-align: middle;\n",
              "    }\n",
              "\n",
              "    .dataframe tbody tr th {\n",
              "        vertical-align: top;\n",
              "    }\n",
              "\n",
              "    .dataframe thead th {\n",
              "        text-align: right;\n",
              "    }\n",
              "</style>\n",
              "<table border=\"1\" class=\"dataframe\">\n",
              "  <thead>\n",
              "    <tr style=\"text-align: right;\">\n",
              "      <th></th>\n",
              "      <th>rank</th>\n",
              "      <th>country_full</th>\n",
              "      <th>total_points</th>\n",
              "      <th>rank_date</th>\n",
              "    </tr>\n",
              "  </thead>\n",
              "  <tbody>\n",
              "    <tr>\n",
              "      <th>0</th>\n",
              "      <td>1</td>\n",
              "      <td>Germany</td>\n",
              "      <td>0.0</td>\n",
              "      <td>1993-08-08</td>\n",
              "    </tr>\n",
              "    <tr>\n",
              "      <th>1</th>\n",
              "      <td>2</td>\n",
              "      <td>Italy</td>\n",
              "      <td>0.0</td>\n",
              "      <td>1993-08-08</td>\n",
              "    </tr>\n",
              "    <tr>\n",
              "      <th>2</th>\n",
              "      <td>3</td>\n",
              "      <td>Switzerland</td>\n",
              "      <td>0.0</td>\n",
              "      <td>1993-08-08</td>\n",
              "    </tr>\n",
              "    <tr>\n",
              "      <th>3</th>\n",
              "      <td>4</td>\n",
              "      <td>Sweden</td>\n",
              "      <td>0.0</td>\n",
              "      <td>1993-08-08</td>\n",
              "    </tr>\n",
              "    <tr>\n",
              "      <th>4</th>\n",
              "      <td>5</td>\n",
              "      <td>Argentina</td>\n",
              "      <td>0.0</td>\n",
              "      <td>1993-08-08</td>\n",
              "    </tr>\n",
              "  </tbody>\n",
              "</table>\n",
              "</div>"
            ],
            "text/plain": [
              "   rank country_full  total_points  rank_date\n",
              "0     1      Germany           0.0 1993-08-08\n",
              "1     2        Italy           0.0 1993-08-08\n",
              "2     3  Switzerland           0.0 1993-08-08\n",
              "3     4       Sweden           0.0 1993-08-08\n",
              "4     5    Argentina           0.0 1993-08-08"
            ]
          },
          "metadata": {},
          "execution_count": 15
        }
      ]
    },
    {
      "cell_type": "code",
      "metadata": {
        "colab": {
          "base_uri": "https://localhost:8080/",
          "height": 206
        },
        "id": "zOUMPOiV3kw9",
        "outputId": "d06a1b6f-0ad7-4125-f743-f66226b22509"
      },
      "source": [
        "# Selected result variables are\n",
        "result1 = result[['date','home_team','away_team','home_score','away_score','tournament','country']]\n",
        "result1.head()"
      ],
      "execution_count": 16,
      "outputs": [
        {
          "output_type": "execute_result",
          "data": {
            "text/html": [
              "<div>\n",
              "<style scoped>\n",
              "    .dataframe tbody tr th:only-of-type {\n",
              "        vertical-align: middle;\n",
              "    }\n",
              "\n",
              "    .dataframe tbody tr th {\n",
              "        vertical-align: top;\n",
              "    }\n",
              "\n",
              "    .dataframe thead th {\n",
              "        text-align: right;\n",
              "    }\n",
              "</style>\n",
              "<table border=\"1\" class=\"dataframe\">\n",
              "  <thead>\n",
              "    <tr style=\"text-align: right;\">\n",
              "      <th></th>\n",
              "      <th>date</th>\n",
              "      <th>home_team</th>\n",
              "      <th>away_team</th>\n",
              "      <th>home_score</th>\n",
              "      <th>away_score</th>\n",
              "      <th>tournament</th>\n",
              "      <th>country</th>\n",
              "    </tr>\n",
              "  </thead>\n",
              "  <tbody>\n",
              "    <tr>\n",
              "      <th>0</th>\n",
              "      <td>1872-11-30</td>\n",
              "      <td>Scotland</td>\n",
              "      <td>England</td>\n",
              "      <td>0</td>\n",
              "      <td>0</td>\n",
              "      <td>Friendly</td>\n",
              "      <td>Scotland</td>\n",
              "    </tr>\n",
              "    <tr>\n",
              "      <th>1</th>\n",
              "      <td>1873-03-08</td>\n",
              "      <td>England</td>\n",
              "      <td>Scotland</td>\n",
              "      <td>4</td>\n",
              "      <td>2</td>\n",
              "      <td>Friendly</td>\n",
              "      <td>England</td>\n",
              "    </tr>\n",
              "    <tr>\n",
              "      <th>2</th>\n",
              "      <td>1874-03-07</td>\n",
              "      <td>Scotland</td>\n",
              "      <td>England</td>\n",
              "      <td>2</td>\n",
              "      <td>1</td>\n",
              "      <td>Friendly</td>\n",
              "      <td>Scotland</td>\n",
              "    </tr>\n",
              "    <tr>\n",
              "      <th>3</th>\n",
              "      <td>1875-03-06</td>\n",
              "      <td>England</td>\n",
              "      <td>Scotland</td>\n",
              "      <td>2</td>\n",
              "      <td>2</td>\n",
              "      <td>Friendly</td>\n",
              "      <td>England</td>\n",
              "    </tr>\n",
              "    <tr>\n",
              "      <th>4</th>\n",
              "      <td>1876-03-04</td>\n",
              "      <td>Scotland</td>\n",
              "      <td>England</td>\n",
              "      <td>3</td>\n",
              "      <td>0</td>\n",
              "      <td>Friendly</td>\n",
              "      <td>Scotland</td>\n",
              "    </tr>\n",
              "  </tbody>\n",
              "</table>\n",
              "</div>"
            ],
            "text/plain": [
              "        date home_team away_team  home_score  away_score tournament   country\n",
              "0 1872-11-30  Scotland   England           0           0   Friendly  Scotland\n",
              "1 1873-03-08   England  Scotland           4           2   Friendly   England\n",
              "2 1874-03-07  Scotland   England           2           1   Friendly  Scotland\n",
              "3 1875-03-06   England  Scotland           2           2   Friendly   England\n",
              "4 1876-03-04  Scotland   England           3           0   Friendly  Scotland"
            ]
          },
          "metadata": {},
          "execution_count": 16
        }
      ]
    },
    {
      "cell_type": "code",
      "metadata": {
        "id": "fr_GF6C5x4wW",
        "colab": {
          "base_uri": "https://localhost:8080/"
        },
        "outputId": "6f0cb1c2-ec42-4187-adfd-bc3464ebb7f4"
      },
      "source": [
        "# converting the date columns into Year from both datasets\n",
        "ranking1['year'] = ranking1['rank_date'].dt.year\n",
        "print(ranking1.head())\n",
        "\n",
        "result1['year'] = result1['date'].dt.year\n",
        "print(result1.head())\n",
        "result1.info()"
      ],
      "execution_count": 17,
      "outputs": [
        {
          "output_type": "stream",
          "name": "stdout",
          "text": [
            "   rank country_full  total_points  rank_date  year\n",
            "0     1      Germany           0.0 1993-08-08  1993\n",
            "1     2        Italy           0.0 1993-08-08  1993\n",
            "2     3  Switzerland           0.0 1993-08-08  1993\n",
            "3     4       Sweden           0.0 1993-08-08  1993\n",
            "4     5    Argentina           0.0 1993-08-08  1993\n",
            "        date home_team away_team  ...  tournament   country  year\n",
            "0 1872-11-30  Scotland   England  ...    Friendly  Scotland  1872\n",
            "1 1873-03-08   England  Scotland  ...    Friendly   England  1873\n",
            "2 1874-03-07  Scotland   England  ...    Friendly  Scotland  1874\n",
            "3 1875-03-06   England  Scotland  ...    Friendly   England  1875\n",
            "4 1876-03-04  Scotland   England  ...    Friendly  Scotland  1876\n",
            "\n",
            "[5 rows x 8 columns]\n",
            "<class 'pandas.core.frame.DataFrame'>\n",
            "RangeIndex: 40839 entries, 0 to 40838\n",
            "Data columns (total 8 columns):\n",
            " #   Column      Non-Null Count  Dtype         \n",
            "---  ------      --------------  -----         \n",
            " 0   date        40839 non-null  datetime64[ns]\n",
            " 1   home_team   40839 non-null  object        \n",
            " 2   away_team   40839 non-null  object        \n",
            " 3   home_score  40839 non-null  int64         \n",
            " 4   away_score  40839 non-null  int64         \n",
            " 5   tournament  40839 non-null  object        \n",
            " 6   country     40839 non-null  object        \n",
            " 7   year        40839 non-null  int64         \n",
            "dtypes: datetime64[ns](1), int64(3), object(4)\n",
            "memory usage: 2.5+ MB\n"
          ]
        },
        {
          "output_type": "stream",
          "name": "stderr",
          "text": [
            "/usr/local/lib/python3.7/dist-packages/ipykernel_launcher.py:2: SettingWithCopyWarning: \n",
            "A value is trying to be set on a copy of a slice from a DataFrame.\n",
            "Try using .loc[row_indexer,col_indexer] = value instead\n",
            "\n",
            "See the caveats in the documentation: https://pandas.pydata.org/pandas-docs/stable/user_guide/indexing.html#returning-a-view-versus-a-copy\n",
            "  \n",
            "/usr/local/lib/python3.7/dist-packages/ipykernel_launcher.py:5: SettingWithCopyWarning: \n",
            "A value is trying to be set on a copy of a slice from a DataFrame.\n",
            "Try using .loc[row_indexer,col_indexer] = value instead\n",
            "\n",
            "See the caveats in the documentation: https://pandas.pydata.org/pandas-docs/stable/user_guide/indexing.html#returning-a-view-versus-a-copy\n",
            "  \"\"\"\n"
          ]
        }
      ]
    },
    {
      "cell_type": "code",
      "metadata": {
        "id": "Rrycmq-YxWNn",
        "colab": {
          "base_uri": "https://localhost:8080/"
        },
        "outputId": "a1107bb4-40a8-46a0-856d-d6a3db461979"
      },
      "source": [
        "# for purposes of merging the datasets, since the ranking dataset starts in year 1993 and results dataset starts in 1872,\n",
        "# we will drop data recorded before 1993 and also 2019's data from the results dataset as they dont have matching recordings in the ranking dataset\n",
        "\n",
        "result1 = result1[result1['date'] > '1993']\n",
        "result1 = result1[result1['date'] < '2019']\n",
        "print(ranking1.head(1))\n",
        "print(ranking1.tail(1))\n",
        "\n",
        "print(result1.head(1))\n",
        "print(result1.tail(1))\n",
        "# dropping "
      ],
      "execution_count": 18,
      "outputs": [
        {
          "output_type": "stream",
          "name": "stdout",
          "text": [
            "   rank country_full  total_points  rank_date  year\n",
            "0     1      Germany           0.0 1993-08-08  1993\n",
            "       rank country_full  total_points  rank_date  year\n",
            "57792   206        Tonga           0.0 2018-06-07  2018\n",
            "            date home_team     away_team  ...  tournament  country  year\n",
            "17362 1993-01-02     Gabon  Burkina Faso  ...    Friendly    Gabon  1993\n",
            "\n",
            "[1 rows x 8 columns]\n",
            "            date home_team away_team  ...  tournament  country  year\n",
            "40350 2018-12-31     Qatar      Iran  ...    Friendly    Qatar  2018\n",
            "\n",
            "[1 rows x 8 columns]\n"
          ]
        }
      ]
    },
    {
      "cell_type": "code",
      "metadata": {
        "colab": {
          "base_uri": "https://localhost:8080/"
        },
        "id": "jcUUg1ZZaBfP",
        "outputId": "4aed7086-45bb-4a1b-e6a7-03a3398ca61e"
      },
      "source": [
        "# dropping the date columns to be left with year columns only\n",
        "ranking1 = ranking1.drop(columns=['rank_date'])\n",
        "print(ranking1.head(1))\n",
        "print('----------------------------------------------------------------------------------')\n",
        "\n",
        "result1 = result1.drop(columns=['date'])\n",
        "print(result1.head(1))"
      ],
      "execution_count": 19,
      "outputs": [
        {
          "output_type": "stream",
          "name": "stdout",
          "text": [
            "   rank country_full  total_points  year\n",
            "0     1      Germany           0.0  1993\n",
            "----------------------------------------------------------------------------------\n",
            "      home_team     away_team  home_score  away_score tournament country  year\n",
            "17362     Gabon  Burkina Faso           1           1   Friendly   Gabon  1993\n"
          ]
        }
      ]
    },
    {
      "cell_type": "code",
      "metadata": {
        "colab": {
          "base_uri": "https://localhost:8080/",
          "height": 81
        },
        "id": "hBysubN2ZfZ9",
        "outputId": "479ffa4a-c81f-4ae5-d2a0-496cd06be185"
      },
      "source": [
        "result1.head(1)"
      ],
      "execution_count": 20,
      "outputs": [
        {
          "output_type": "execute_result",
          "data": {
            "text/html": [
              "<div>\n",
              "<style scoped>\n",
              "    .dataframe tbody tr th:only-of-type {\n",
              "        vertical-align: middle;\n",
              "    }\n",
              "\n",
              "    .dataframe tbody tr th {\n",
              "        vertical-align: top;\n",
              "    }\n",
              "\n",
              "    .dataframe thead th {\n",
              "        text-align: right;\n",
              "    }\n",
              "</style>\n",
              "<table border=\"1\" class=\"dataframe\">\n",
              "  <thead>\n",
              "    <tr style=\"text-align: right;\">\n",
              "      <th></th>\n",
              "      <th>home_team</th>\n",
              "      <th>away_team</th>\n",
              "      <th>home_score</th>\n",
              "      <th>away_score</th>\n",
              "      <th>tournament</th>\n",
              "      <th>country</th>\n",
              "      <th>year</th>\n",
              "    </tr>\n",
              "  </thead>\n",
              "  <tbody>\n",
              "    <tr>\n",
              "      <th>17362</th>\n",
              "      <td>Gabon</td>\n",
              "      <td>Burkina Faso</td>\n",
              "      <td>1</td>\n",
              "      <td>1</td>\n",
              "      <td>Friendly</td>\n",
              "      <td>Gabon</td>\n",
              "      <td>1993</td>\n",
              "    </tr>\n",
              "  </tbody>\n",
              "</table>\n",
              "</div>"
            ],
            "text/plain": [
              "      home_team     away_team  home_score  away_score tournament country  year\n",
              "17362     Gabon  Burkina Faso           1           1   Friendly   Gabon  1993"
            ]
          },
          "metadata": {},
          "execution_count": 20
        }
      ]
    },
    {
      "cell_type": "code",
      "metadata": {
        "colab": {
          "base_uri": "https://localhost:8080/",
          "height": 81
        },
        "id": "q4XAhNijZiwn",
        "outputId": "3b315d7e-a59d-4b55-d264-4538be9f7700"
      },
      "source": [
        "ranking1.head(1)"
      ],
      "execution_count": 21,
      "outputs": [
        {
          "output_type": "execute_result",
          "data": {
            "text/html": [
              "<div>\n",
              "<style scoped>\n",
              "    .dataframe tbody tr th:only-of-type {\n",
              "        vertical-align: middle;\n",
              "    }\n",
              "\n",
              "    .dataframe tbody tr th {\n",
              "        vertical-align: top;\n",
              "    }\n",
              "\n",
              "    .dataframe thead th {\n",
              "        text-align: right;\n",
              "    }\n",
              "</style>\n",
              "<table border=\"1\" class=\"dataframe\">\n",
              "  <thead>\n",
              "    <tr style=\"text-align: right;\">\n",
              "      <th></th>\n",
              "      <th>rank</th>\n",
              "      <th>country_full</th>\n",
              "      <th>total_points</th>\n",
              "      <th>year</th>\n",
              "    </tr>\n",
              "  </thead>\n",
              "  <tbody>\n",
              "    <tr>\n",
              "      <th>0</th>\n",
              "      <td>1</td>\n",
              "      <td>Germany</td>\n",
              "      <td>0.0</td>\n",
              "      <td>1993</td>\n",
              "    </tr>\n",
              "  </tbody>\n",
              "</table>\n",
              "</div>"
            ],
            "text/plain": [
              "   rank country_full  total_points  year\n",
              "0     1      Germany           0.0  1993"
            ]
          },
          "metadata": {},
          "execution_count": 21
        }
      ]
    },
    {
      "cell_type": "code",
      "metadata": {
        "colab": {
          "base_uri": "https://localhost:8080/",
          "height": 704
        },
        "id": "XFOzuc1U8wbW",
        "outputId": "c7b8d746-c1b2-47a8-f3a6-26cae94b2bf8"
      },
      "source": [
        "# merging ranking and result datasets to form one\n",
        "merged = pd.merge(result1, ranking1, left_on=['year','home_team'],right_on=['year','country_full'],how= 'inner')\n",
        "merged = pd.merge(merged, ranking1, left_on=['year','away_team'],right_on=['year','country_full'],how= 'inner')\n",
        "merged"
      ],
      "execution_count": 22,
      "outputs": [
        {
          "output_type": "execute_result",
          "data": {
            "text/html": [
              "<div>\n",
              "<style scoped>\n",
              "    .dataframe tbody tr th:only-of-type {\n",
              "        vertical-align: middle;\n",
              "    }\n",
              "\n",
              "    .dataframe tbody tr th {\n",
              "        vertical-align: top;\n",
              "    }\n",
              "\n",
              "    .dataframe thead th {\n",
              "        text-align: right;\n",
              "    }\n",
              "</style>\n",
              "<table border=\"1\" class=\"dataframe\">\n",
              "  <thead>\n",
              "    <tr style=\"text-align: right;\">\n",
              "      <th></th>\n",
              "      <th>home_team</th>\n",
              "      <th>away_team</th>\n",
              "      <th>home_score</th>\n",
              "      <th>away_score</th>\n",
              "      <th>tournament</th>\n",
              "      <th>country</th>\n",
              "      <th>year</th>\n",
              "      <th>rank_x</th>\n",
              "      <th>country_full_x</th>\n",
              "      <th>total_points_x</th>\n",
              "      <th>rank_y</th>\n",
              "      <th>country_full_y</th>\n",
              "      <th>total_points_y</th>\n",
              "    </tr>\n",
              "  </thead>\n",
              "  <tbody>\n",
              "    <tr>\n",
              "      <th>0</th>\n",
              "      <td>Gabon</td>\n",
              "      <td>Burkina Faso</td>\n",
              "      <td>1</td>\n",
              "      <td>1</td>\n",
              "      <td>Friendly</td>\n",
              "      <td>Gabon</td>\n",
              "      <td>1993</td>\n",
              "      <td>64</td>\n",
              "      <td>Gabon</td>\n",
              "      <td>0.00</td>\n",
              "      <td>113</td>\n",
              "      <td>Burkina Faso</td>\n",
              "      <td>0.00</td>\n",
              "    </tr>\n",
              "    <tr>\n",
              "      <th>1</th>\n",
              "      <td>Gabon</td>\n",
              "      <td>Burkina Faso</td>\n",
              "      <td>1</td>\n",
              "      <td>1</td>\n",
              "      <td>Friendly</td>\n",
              "      <td>Gabon</td>\n",
              "      <td>1993</td>\n",
              "      <td>64</td>\n",
              "      <td>Gabon</td>\n",
              "      <td>0.00</td>\n",
              "      <td>119</td>\n",
              "      <td>Burkina Faso</td>\n",
              "      <td>0.00</td>\n",
              "    </tr>\n",
              "    <tr>\n",
              "      <th>2</th>\n",
              "      <td>Gabon</td>\n",
              "      <td>Burkina Faso</td>\n",
              "      <td>1</td>\n",
              "      <td>1</td>\n",
              "      <td>Friendly</td>\n",
              "      <td>Gabon</td>\n",
              "      <td>1993</td>\n",
              "      <td>64</td>\n",
              "      <td>Gabon</td>\n",
              "      <td>0.00</td>\n",
              "      <td>123</td>\n",
              "      <td>Burkina Faso</td>\n",
              "      <td>0.00</td>\n",
              "    </tr>\n",
              "    <tr>\n",
              "      <th>3</th>\n",
              "      <td>Gabon</td>\n",
              "      <td>Burkina Faso</td>\n",
              "      <td>1</td>\n",
              "      <td>1</td>\n",
              "      <td>Friendly</td>\n",
              "      <td>Gabon</td>\n",
              "      <td>1993</td>\n",
              "      <td>64</td>\n",
              "      <td>Gabon</td>\n",
              "      <td>0.00</td>\n",
              "      <td>123</td>\n",
              "      <td>Burkina Faso</td>\n",
              "      <td>0.00</td>\n",
              "    </tr>\n",
              "    <tr>\n",
              "      <th>4</th>\n",
              "      <td>Gabon</td>\n",
              "      <td>Burkina Faso</td>\n",
              "      <td>1</td>\n",
              "      <td>1</td>\n",
              "      <td>Friendly</td>\n",
              "      <td>Gabon</td>\n",
              "      <td>1993</td>\n",
              "      <td>64</td>\n",
              "      <td>Gabon</td>\n",
              "      <td>0.00</td>\n",
              "      <td>127</td>\n",
              "      <td>Burkina Faso</td>\n",
              "      <td>0.00</td>\n",
              "    </tr>\n",
              "    <tr>\n",
              "      <th>...</th>\n",
              "      <td>...</td>\n",
              "      <td>...</td>\n",
              "      <td>...</td>\n",
              "      <td>...</td>\n",
              "      <td>...</td>\n",
              "      <td>...</td>\n",
              "      <td>...</td>\n",
              "      <td>...</td>\n",
              "      <td>...</td>\n",
              "      <td>...</td>\n",
              "      <td>...</td>\n",
              "      <td>...</td>\n",
              "      <td>...</td>\n",
              "    </tr>\n",
              "    <tr>\n",
              "      <th>2325955</th>\n",
              "      <td>Togo</td>\n",
              "      <td>Gambia</td>\n",
              "      <td>1</td>\n",
              "      <td>1</td>\n",
              "      <td>African Cup of Nations qualification</td>\n",
              "      <td>Togo</td>\n",
              "      <td>2018</td>\n",
              "      <td>125</td>\n",
              "      <td>Togo</td>\n",
              "      <td>241.13</td>\n",
              "      <td>163</td>\n",
              "      <td>Gambia</td>\n",
              "      <td>119.52</td>\n",
              "    </tr>\n",
              "    <tr>\n",
              "      <th>2325956</th>\n",
              "      <td>Togo</td>\n",
              "      <td>Gambia</td>\n",
              "      <td>1</td>\n",
              "      <td>1</td>\n",
              "      <td>African Cup of Nations qualification</td>\n",
              "      <td>Togo</td>\n",
              "      <td>2018</td>\n",
              "      <td>125</td>\n",
              "      <td>Togo</td>\n",
              "      <td>241.13</td>\n",
              "      <td>164</td>\n",
              "      <td>Gambia</td>\n",
              "      <td>119.52</td>\n",
              "    </tr>\n",
              "    <tr>\n",
              "      <th>2325957</th>\n",
              "      <td>Togo</td>\n",
              "      <td>Gambia</td>\n",
              "      <td>1</td>\n",
              "      <td>1</td>\n",
              "      <td>African Cup of Nations qualification</td>\n",
              "      <td>Togo</td>\n",
              "      <td>2018</td>\n",
              "      <td>125</td>\n",
              "      <td>Togo</td>\n",
              "      <td>241.13</td>\n",
              "      <td>175</td>\n",
              "      <td>Gambia</td>\n",
              "      <td>94.44</td>\n",
              "    </tr>\n",
              "    <tr>\n",
              "      <th>2325958</th>\n",
              "      <td>Togo</td>\n",
              "      <td>Gambia</td>\n",
              "      <td>1</td>\n",
              "      <td>1</td>\n",
              "      <td>African Cup of Nations qualification</td>\n",
              "      <td>Togo</td>\n",
              "      <td>2018</td>\n",
              "      <td>125</td>\n",
              "      <td>Togo</td>\n",
              "      <td>241.13</td>\n",
              "      <td>175</td>\n",
              "      <td>Gambia</td>\n",
              "      <td>94.44</td>\n",
              "    </tr>\n",
              "    <tr>\n",
              "      <th>2325959</th>\n",
              "      <td>Togo</td>\n",
              "      <td>Gambia</td>\n",
              "      <td>1</td>\n",
              "      <td>1</td>\n",
              "      <td>African Cup of Nations qualification</td>\n",
              "      <td>Togo</td>\n",
              "      <td>2018</td>\n",
              "      <td>125</td>\n",
              "      <td>Togo</td>\n",
              "      <td>241.13</td>\n",
              "      <td>172</td>\n",
              "      <td>Gambia</td>\n",
              "      <td>91.94</td>\n",
              "    </tr>\n",
              "  </tbody>\n",
              "</table>\n",
              "<p>2325960 rows × 13 columns</p>\n",
              "</div>"
            ],
            "text/plain": [
              "        home_team     away_team  ...  country_full_y  total_points_y\n",
              "0           Gabon  Burkina Faso  ...    Burkina Faso            0.00\n",
              "1           Gabon  Burkina Faso  ...    Burkina Faso            0.00\n",
              "2           Gabon  Burkina Faso  ...    Burkina Faso            0.00\n",
              "3           Gabon  Burkina Faso  ...    Burkina Faso            0.00\n",
              "4           Gabon  Burkina Faso  ...    Burkina Faso            0.00\n",
              "...           ...           ...  ...             ...             ...\n",
              "2325955      Togo        Gambia  ...          Gambia          119.52\n",
              "2325956      Togo        Gambia  ...          Gambia          119.52\n",
              "2325957      Togo        Gambia  ...          Gambia           94.44\n",
              "2325958      Togo        Gambia  ...          Gambia           94.44\n",
              "2325959      Togo        Gambia  ...          Gambia           91.94\n",
              "\n",
              "[2325960 rows x 13 columns]"
            ]
          },
          "metadata": {},
          "execution_count": 22
        }
      ]
    },
    {
      "cell_type": "code",
      "metadata": {
        "colab": {
          "base_uri": "https://localhost:8080/",
          "height": 81
        },
        "id": "Qq0_f5CpgRxW",
        "outputId": "a91c0f8b-8f95-4b4f-fb11-8e428a6fb82c"
      },
      "source": [
        "# removing unwanted columns\n",
        "merged.drop(columns=['country','year','country_full_x','country_full_y'],inplace=True)\n",
        "merged.head(1)"
      ],
      "execution_count": 23,
      "outputs": [
        {
          "output_type": "execute_result",
          "data": {
            "text/html": [
              "<div>\n",
              "<style scoped>\n",
              "    .dataframe tbody tr th:only-of-type {\n",
              "        vertical-align: middle;\n",
              "    }\n",
              "\n",
              "    .dataframe tbody tr th {\n",
              "        vertical-align: top;\n",
              "    }\n",
              "\n",
              "    .dataframe thead th {\n",
              "        text-align: right;\n",
              "    }\n",
              "</style>\n",
              "<table border=\"1\" class=\"dataframe\">\n",
              "  <thead>\n",
              "    <tr style=\"text-align: right;\">\n",
              "      <th></th>\n",
              "      <th>home_team</th>\n",
              "      <th>away_team</th>\n",
              "      <th>home_score</th>\n",
              "      <th>away_score</th>\n",
              "      <th>tournament</th>\n",
              "      <th>rank_x</th>\n",
              "      <th>total_points_x</th>\n",
              "      <th>rank_y</th>\n",
              "      <th>total_points_y</th>\n",
              "    </tr>\n",
              "  </thead>\n",
              "  <tbody>\n",
              "    <tr>\n",
              "      <th>0</th>\n",
              "      <td>Gabon</td>\n",
              "      <td>Burkina Faso</td>\n",
              "      <td>1</td>\n",
              "      <td>1</td>\n",
              "      <td>Friendly</td>\n",
              "      <td>64</td>\n",
              "      <td>0.0</td>\n",
              "      <td>113</td>\n",
              "      <td>0.0</td>\n",
              "    </tr>\n",
              "  </tbody>\n",
              "</table>\n",
              "</div>"
            ],
            "text/plain": [
              "  home_team     away_team  home_score  ...  total_points_x rank_y  total_points_y\n",
              "0     Gabon  Burkina Faso           1  ...             0.0    113             0.0\n",
              "\n",
              "[1 rows x 9 columns]"
            ]
          },
          "metadata": {},
          "execution_count": 23
        }
      ]
    },
    {
      "cell_type": "code",
      "metadata": {
        "colab": {
          "base_uri": "https://localhost:8080/",
          "height": 597
        },
        "id": "p8dAxIUnhBgs",
        "outputId": "dd5eb880-8ff1-40a9-8c05-ea027515a4b4"
      },
      "source": [
        "# renaming columns for better understanding\n",
        "merged.rename(columns={'rank_x': 'home_team_rank',\n",
        "                       'total_points_x': 'home_team_points',\n",
        "                       'rank_y': 'away_team_rank',\n",
        "                       'total_points_y': 'away_team_points'}, inplace=True)\n",
        "merged"
      ],
      "execution_count": 24,
      "outputs": [
        {
          "output_type": "execute_result",
          "data": {
            "text/html": [
              "<div>\n",
              "<style scoped>\n",
              "    .dataframe tbody tr th:only-of-type {\n",
              "        vertical-align: middle;\n",
              "    }\n",
              "\n",
              "    .dataframe tbody tr th {\n",
              "        vertical-align: top;\n",
              "    }\n",
              "\n",
              "    .dataframe thead th {\n",
              "        text-align: right;\n",
              "    }\n",
              "</style>\n",
              "<table border=\"1\" class=\"dataframe\">\n",
              "  <thead>\n",
              "    <tr style=\"text-align: right;\">\n",
              "      <th></th>\n",
              "      <th>home_team</th>\n",
              "      <th>away_team</th>\n",
              "      <th>home_score</th>\n",
              "      <th>away_score</th>\n",
              "      <th>tournament</th>\n",
              "      <th>home_team_rank</th>\n",
              "      <th>home_team_points</th>\n",
              "      <th>away_team_rank</th>\n",
              "      <th>away_team_points</th>\n",
              "    </tr>\n",
              "  </thead>\n",
              "  <tbody>\n",
              "    <tr>\n",
              "      <th>0</th>\n",
              "      <td>Gabon</td>\n",
              "      <td>Burkina Faso</td>\n",
              "      <td>1</td>\n",
              "      <td>1</td>\n",
              "      <td>Friendly</td>\n",
              "      <td>64</td>\n",
              "      <td>0.00</td>\n",
              "      <td>113</td>\n",
              "      <td>0.00</td>\n",
              "    </tr>\n",
              "    <tr>\n",
              "      <th>1</th>\n",
              "      <td>Gabon</td>\n",
              "      <td>Burkina Faso</td>\n",
              "      <td>1</td>\n",
              "      <td>1</td>\n",
              "      <td>Friendly</td>\n",
              "      <td>64</td>\n",
              "      <td>0.00</td>\n",
              "      <td>119</td>\n",
              "      <td>0.00</td>\n",
              "    </tr>\n",
              "    <tr>\n",
              "      <th>2</th>\n",
              "      <td>Gabon</td>\n",
              "      <td>Burkina Faso</td>\n",
              "      <td>1</td>\n",
              "      <td>1</td>\n",
              "      <td>Friendly</td>\n",
              "      <td>64</td>\n",
              "      <td>0.00</td>\n",
              "      <td>123</td>\n",
              "      <td>0.00</td>\n",
              "    </tr>\n",
              "    <tr>\n",
              "      <th>3</th>\n",
              "      <td>Gabon</td>\n",
              "      <td>Burkina Faso</td>\n",
              "      <td>1</td>\n",
              "      <td>1</td>\n",
              "      <td>Friendly</td>\n",
              "      <td>64</td>\n",
              "      <td>0.00</td>\n",
              "      <td>123</td>\n",
              "      <td>0.00</td>\n",
              "    </tr>\n",
              "    <tr>\n",
              "      <th>4</th>\n",
              "      <td>Gabon</td>\n",
              "      <td>Burkina Faso</td>\n",
              "      <td>1</td>\n",
              "      <td>1</td>\n",
              "      <td>Friendly</td>\n",
              "      <td>64</td>\n",
              "      <td>0.00</td>\n",
              "      <td>127</td>\n",
              "      <td>0.00</td>\n",
              "    </tr>\n",
              "    <tr>\n",
              "      <th>...</th>\n",
              "      <td>...</td>\n",
              "      <td>...</td>\n",
              "      <td>...</td>\n",
              "      <td>...</td>\n",
              "      <td>...</td>\n",
              "      <td>...</td>\n",
              "      <td>...</td>\n",
              "      <td>...</td>\n",
              "      <td>...</td>\n",
              "    </tr>\n",
              "    <tr>\n",
              "      <th>2325955</th>\n",
              "      <td>Togo</td>\n",
              "      <td>Gambia</td>\n",
              "      <td>1</td>\n",
              "      <td>1</td>\n",
              "      <td>African Cup of Nations qualification</td>\n",
              "      <td>125</td>\n",
              "      <td>241.13</td>\n",
              "      <td>163</td>\n",
              "      <td>119.52</td>\n",
              "    </tr>\n",
              "    <tr>\n",
              "      <th>2325956</th>\n",
              "      <td>Togo</td>\n",
              "      <td>Gambia</td>\n",
              "      <td>1</td>\n",
              "      <td>1</td>\n",
              "      <td>African Cup of Nations qualification</td>\n",
              "      <td>125</td>\n",
              "      <td>241.13</td>\n",
              "      <td>164</td>\n",
              "      <td>119.52</td>\n",
              "    </tr>\n",
              "    <tr>\n",
              "      <th>2325957</th>\n",
              "      <td>Togo</td>\n",
              "      <td>Gambia</td>\n",
              "      <td>1</td>\n",
              "      <td>1</td>\n",
              "      <td>African Cup of Nations qualification</td>\n",
              "      <td>125</td>\n",
              "      <td>241.13</td>\n",
              "      <td>175</td>\n",
              "      <td>94.44</td>\n",
              "    </tr>\n",
              "    <tr>\n",
              "      <th>2325958</th>\n",
              "      <td>Togo</td>\n",
              "      <td>Gambia</td>\n",
              "      <td>1</td>\n",
              "      <td>1</td>\n",
              "      <td>African Cup of Nations qualification</td>\n",
              "      <td>125</td>\n",
              "      <td>241.13</td>\n",
              "      <td>175</td>\n",
              "      <td>94.44</td>\n",
              "    </tr>\n",
              "    <tr>\n",
              "      <th>2325959</th>\n",
              "      <td>Togo</td>\n",
              "      <td>Gambia</td>\n",
              "      <td>1</td>\n",
              "      <td>1</td>\n",
              "      <td>African Cup of Nations qualification</td>\n",
              "      <td>125</td>\n",
              "      <td>241.13</td>\n",
              "      <td>172</td>\n",
              "      <td>91.94</td>\n",
              "    </tr>\n",
              "  </tbody>\n",
              "</table>\n",
              "<p>2325960 rows × 9 columns</p>\n",
              "</div>"
            ],
            "text/plain": [
              "        home_team     away_team  ...  away_team_rank  away_team_points\n",
              "0           Gabon  Burkina Faso  ...             113              0.00\n",
              "1           Gabon  Burkina Faso  ...             119              0.00\n",
              "2           Gabon  Burkina Faso  ...             123              0.00\n",
              "3           Gabon  Burkina Faso  ...             123              0.00\n",
              "4           Gabon  Burkina Faso  ...             127              0.00\n",
              "...           ...           ...  ...             ...               ...\n",
              "2325955      Togo        Gambia  ...             163            119.52\n",
              "2325956      Togo        Gambia  ...             164            119.52\n",
              "2325957      Togo        Gambia  ...             175             94.44\n",
              "2325958      Togo        Gambia  ...             175             94.44\n",
              "2325959      Togo        Gambia  ...             172             91.94\n",
              "\n",
              "[2325960 rows x 9 columns]"
            ]
          },
          "metadata": {},
          "execution_count": 24
        }
      ]
    },
    {
      "cell_type": "markdown",
      "metadata": {
        "id": "ncprPCLaclJo"
      },
      "source": [
        "Exploratory Data Analysis\n"
      ]
    },
    {
      "cell_type": "code",
      "metadata": {
        "id": "zcdS0HxsaHdD",
        "colab": {
          "base_uri": "https://localhost:8080/"
        },
        "outputId": "6aee81e7-b91c-4292-f87a-aeade4e2ff42"
      },
      "source": [
        "# checking for merged dataset datatypes\n",
        "merged.info()\n"
      ],
      "execution_count": 25,
      "outputs": [
        {
          "output_type": "stream",
          "name": "stdout",
          "text": [
            "<class 'pandas.core.frame.DataFrame'>\n",
            "Int64Index: 2325960 entries, 0 to 2325959\n",
            "Data columns (total 9 columns):\n",
            " #   Column            Dtype  \n",
            "---  ------            -----  \n",
            " 0   home_team         object \n",
            " 1   away_team         object \n",
            " 2   home_score        int64  \n",
            " 3   away_score        int64  \n",
            " 4   tournament        object \n",
            " 5   home_team_rank    int64  \n",
            " 6   home_team_points  float64\n",
            " 7   away_team_rank    int64  \n",
            " 8   away_team_points  float64\n",
            "dtypes: float64(2), int64(4), object(3)\n",
            "memory usage: 177.5+ MB\n"
          ]
        }
      ]
    },
    {
      "cell_type": "code",
      "metadata": {
        "id": "R8TUrYJUbsgI",
        "colab": {
          "base_uri": "https://localhost:8080/"
        },
        "outputId": "306c6523-692a-49a3-c55b-04d0cb362a66"
      },
      "source": [
        "# checking for missing data\n",
        "merged.isna().sum()"
      ],
      "execution_count": 26,
      "outputs": [
        {
          "output_type": "execute_result",
          "data": {
            "text/plain": [
              "home_team           0\n",
              "away_team           0\n",
              "home_score          0\n",
              "away_score          0\n",
              "tournament          0\n",
              "home_team_rank      0\n",
              "home_team_points    0\n",
              "away_team_rank      0\n",
              "away_team_points    0\n",
              "dtype: int64"
            ]
          },
          "metadata": {},
          "execution_count": 26
        }
      ]
    },
    {
      "cell_type": "code",
      "metadata": {
        "colab": {
          "base_uri": "https://localhost:8080/"
        },
        "id": "5yy4hl1QlXtV",
        "outputId": "022c07f0-c695-4769-8959-bfbd175cf63d"
      },
      "source": [
        "# checking for duplicates\n",
        "merged.duplicated().sum()"
      ],
      "execution_count": 27,
      "outputs": [
        {
          "output_type": "execute_result",
          "data": {
            "text/plain": [
              "1042551"
            ]
          },
          "metadata": {},
          "execution_count": 27
        }
      ]
    },
    {
      "cell_type": "code",
      "metadata": {
        "colab": {
          "base_uri": "https://localhost:8080/"
        },
        "id": "4aB0hjeXliCu",
        "outputId": "5b079fba-01e4-4b22-fa68-f818816b5d18"
      },
      "source": [
        "# removing the duplicates\n",
        "merged.drop_duplicates(subset=None,inplace=True)\n",
        "merged.shape"
      ],
      "execution_count": 28,
      "outputs": [
        {
          "output_type": "execute_result",
          "data": {
            "text/plain": [
              "(1283409, 9)"
            ]
          },
          "metadata": {},
          "execution_count": 28
        }
      ]
    },
    {
      "cell_type": "code",
      "metadata": {
        "id": "dV0gwaODXDqP",
        "colab": {
          "base_uri": "https://localhost:8080/",
          "height": 300
        },
        "outputId": "7ad7940b-74f0-4011-a39f-939658dcc758"
      },
      "source": [
        "# summary statistics for the merged dataset\n",
        "pd.options.display.float_format = '{:.5f}'.format\n",
        "merged.describe()"
      ],
      "execution_count": 29,
      "outputs": [
        {
          "output_type": "execute_result",
          "data": {
            "text/html": [
              "<div>\n",
              "<style scoped>\n",
              "    .dataframe tbody tr th:only-of-type {\n",
              "        vertical-align: middle;\n",
              "    }\n",
              "\n",
              "    .dataframe tbody tr th {\n",
              "        vertical-align: top;\n",
              "    }\n",
              "\n",
              "    .dataframe thead th {\n",
              "        text-align: right;\n",
              "    }\n",
              "</style>\n",
              "<table border=\"1\" class=\"dataframe\">\n",
              "  <thead>\n",
              "    <tr style=\"text-align: right;\">\n",
              "      <th></th>\n",
              "      <th>home_score</th>\n",
              "      <th>away_score</th>\n",
              "      <th>home_team_rank</th>\n",
              "      <th>home_team_points</th>\n",
              "      <th>away_team_rank</th>\n",
              "      <th>away_team_points</th>\n",
              "    </tr>\n",
              "  </thead>\n",
              "  <tbody>\n",
              "    <tr>\n",
              "      <th>count</th>\n",
              "      <td>1283409.00000</td>\n",
              "      <td>1283409.00000</td>\n",
              "      <td>1283409.00000</td>\n",
              "      <td>1283409.00000</td>\n",
              "      <td>1283409.00000</td>\n",
              "      <td>1283409.00000</td>\n",
              "    </tr>\n",
              "    <tr>\n",
              "      <th>mean</th>\n",
              "      <td>1.56962</td>\n",
              "      <td>1.04565</td>\n",
              "      <td>79.20969</td>\n",
              "      <td>233.53873</td>\n",
              "      <td>82.11686</td>\n",
              "      <td>223.23107</td>\n",
              "    </tr>\n",
              "    <tr>\n",
              "      <th>std</th>\n",
              "      <td>1.53778</td>\n",
              "      <td>1.20172</td>\n",
              "      <td>48.65252</td>\n",
              "      <td>342.66085</td>\n",
              "      <td>49.55408</td>\n",
              "      <td>330.29816</td>\n",
              "    </tr>\n",
              "    <tr>\n",
              "      <th>min</th>\n",
              "      <td>0.00000</td>\n",
              "      <td>0.00000</td>\n",
              "      <td>1.00000</td>\n",
              "      <td>0.00000</td>\n",
              "      <td>1.00000</td>\n",
              "      <td>0.00000</td>\n",
              "    </tr>\n",
              "    <tr>\n",
              "      <th>25%</th>\n",
              "      <td>0.00000</td>\n",
              "      <td>0.00000</td>\n",
              "      <td>39.00000</td>\n",
              "      <td>0.00000</td>\n",
              "      <td>41.00000</td>\n",
              "      <td>0.00000</td>\n",
              "    </tr>\n",
              "    <tr>\n",
              "      <th>50%</th>\n",
              "      <td>1.00000</td>\n",
              "      <td>1.00000</td>\n",
              "      <td>75.00000</td>\n",
              "      <td>0.00000</td>\n",
              "      <td>78.00000</td>\n",
              "      <td>0.00000</td>\n",
              "    </tr>\n",
              "    <tr>\n",
              "      <th>75%</th>\n",
              "      <td>2.00000</td>\n",
              "      <td>2.00000</td>\n",
              "      <td>114.00000</td>\n",
              "      <td>394.51000</td>\n",
              "      <td>117.00000</td>\n",
              "      <td>378.49000</td>\n",
              "    </tr>\n",
              "    <tr>\n",
              "      <th>max</th>\n",
              "      <td>31.00000</td>\n",
              "      <td>15.00000</td>\n",
              "      <td>209.00000</td>\n",
              "      <td>1775.03000</td>\n",
              "      <td>209.00000</td>\n",
              "      <td>1775.03000</td>\n",
              "    </tr>\n",
              "  </tbody>\n",
              "</table>\n",
              "</div>"
            ],
            "text/plain": [
              "         home_score    away_score  ...  away_team_rank  away_team_points\n",
              "count 1283409.00000 1283409.00000  ...   1283409.00000     1283409.00000\n",
              "mean        1.56962       1.04565  ...        82.11686         223.23107\n",
              "std         1.53778       1.20172  ...        49.55408         330.29816\n",
              "min         0.00000       0.00000  ...         1.00000           0.00000\n",
              "25%         0.00000       0.00000  ...        41.00000           0.00000\n",
              "50%         1.00000       1.00000  ...        78.00000           0.00000\n",
              "75%         2.00000       2.00000  ...       117.00000         378.49000\n",
              "max        31.00000      15.00000  ...       209.00000        1775.03000\n",
              "\n",
              "[8 rows x 6 columns]"
            ]
          },
          "metadata": {},
          "execution_count": 29
        }
      ]
    },
    {
      "cell_type": "code",
      "metadata": {
        "colab": {
          "base_uri": "https://localhost:8080/"
        },
        "id": "n4bbDAZ-lsr4",
        "outputId": "b4d198c2-bb93-452f-bbb9-0ae3bde95796"
      },
      "source": [
        "# check for unique values/anomalies\n",
        "for j in merged:\n",
        "  print(merged[j].unique())"
      ],
      "execution_count": 30,
      "outputs": [
        {
          "output_type": "stream",
          "name": "stdout",
          "text": [
            "['Gabon' 'Sierra Leone' 'Algeria' 'Germany' 'Liberia' 'Gambia' 'Morocco'\n",
            " 'Niger' 'Burkina Faso' 'Senegal' 'Egypt' 'Cameroon' 'Ghana' 'Italy'\n",
            " 'Portugal' 'Scotland' 'Estonia' 'Kuwait' 'India' 'Hong Kong' 'Bahrain'\n",
            " 'Mexico' 'Thailand' 'Jordan' 'Pakistan' 'Yemen' 'Iraq' 'Oman' 'Angola'\n",
            " 'Tunisia' 'Mali' 'Malaysia' 'Singapore' 'Macau' 'Saudi Arabia' 'Uganda'\n",
            " 'Kenya' 'South Africa' 'Ethiopia' 'Burundi' 'Guinea-Bissau' 'Congo'\n",
            " 'Zimbabwe' 'Guinea' 'Togo' 'Zambia' 'Botswana' 'Mauritius' 'Nigeria'\n",
            " 'Lesotho' 'Benin' 'Mozambique' 'Belgium' 'Malawi' 'Tanzania'\n",
            " 'United Arab Emirates' 'Austria' 'France' 'Malta' 'Sweden' 'England'\n",
            " 'Argentina' 'Brazil' 'Luxembourg' 'Namibia' 'Israel' 'Poland' 'Bulgaria'\n",
            " 'Lebanon' 'Ecuador' 'Peru' 'Spain' 'Costa Rica' 'El Salvador' 'Honduras'\n",
            " 'Canada' 'Colombia' 'Finland' 'Switzerland' 'Slovenia' 'Liechtenstein'\n",
            " 'Qatar' 'Vietnam' 'Venezuela' 'Paraguay' 'Chile' 'Uruguay' 'Bolivia'\n",
            " 'Greece' 'Hungary' 'Iceland' 'Wales' 'Faroe Islands' 'Australia'\n",
            " 'Republic of Ireland' 'Latvia' 'Slovakia' 'Denmark' 'Albania' 'Lithuania'\n",
            " 'Cyprus' 'San Marino' 'Turkey' 'Norway' 'Romania' 'Ukraine' 'Indonesia'\n",
            " 'Japan' 'Sri Lanka' 'Bangladesh' 'Jamaica' 'Croatia' 'Netherlands'\n",
            " 'Northern Ireland' 'Russia' 'New Zealand' 'China PR' 'Guyana'\n",
            " 'Puerto Rico' 'Cayman Islands' 'Syria' 'Tahiti' 'Barbados' 'Grenada'\n",
            " 'Sudan' 'Mauritania' 'Belarus' 'Suriname' 'Dominican Republic'\n",
            " 'Trinidad and Tobago' 'Moldova' 'Georgia' 'Czech Republic' 'Armenia'\n",
            " 'Madagascar' 'Kazakhstan' 'Uzbekistan' 'Tajikistan' 'Azerbaijan' 'Fiji'\n",
            " 'Solomon Islands' 'Vanuatu' 'Somalia' 'Antigua and Barbuda' 'Nepal'\n",
            " 'Cuba' 'Nicaragua' 'Guatemala' 'Panama' 'Turkmenistan' 'Rwanda'\n",
            " 'Bosnia and Herzegovina' 'Laos' 'Philippines' 'Maldives' 'Haiti' 'Aruba'\n",
            " 'Belize' 'Dominica' 'Cambodia' 'Andorra' 'Central African Republic'\n",
            " 'Papua New Guinea' 'Seychelles' 'Tonga' 'Samoa' 'Libya'\n",
            " 'British Virgin Islands' 'Chad' 'Cook Islands' 'Palestine'\n",
            " 'Equatorial Guinea' 'Bermuda' 'Eritrea' 'Bahamas' 'Montserrat' 'Djibouti'\n",
            " 'Bhutan' 'Anguilla' 'American Samoa' 'Mongolia' 'Afghanistan' 'Guam'\n",
            " 'Turks and Caicos Islands' 'New Caledonia' 'Serbia' 'Montenegro'\n",
            " 'Comoros' 'Chinese Taipei' 'Curaçao' 'South Sudan' 'Gibraltar' 'Kosovo'\n",
            " 'Myanmar' 'Timor-Leste']\n",
            "['Burkina Faso' 'Ghana' 'Benin' 'Mali' 'Niger' 'Malta' 'Lebanon'\n",
            " 'China PR' 'Syria' 'Egypt' 'Saudi Arabia' 'Malaysia' 'Macau' 'Tanzania'\n",
            " 'Nigeria' 'Sudan' 'Togo' 'Guinea-Bissau' 'Guinea' 'Gambia' 'Senegal'\n",
            " 'Zimbabwe' 'South Africa' 'Algeria' 'Mozambique' 'Gabon' 'Sierra Leone'\n",
            " 'Morocco' 'Zambia' 'Mauritania' 'Bulgaria' 'Ethiopia' 'Switzerland'\n",
            " 'Germany' 'Iceland' 'Mauritius' 'Uganda' 'Tunisia' 'Cameroon' 'Kenya'\n",
            " 'Madagascar' 'Angola' 'Finland' 'Hong Kong' 'Bahrain' 'Mexico' 'Estonia'\n",
            " 'Scotland' 'Portugal' 'Burundi' 'Indonesia' 'Peru' 'Colombia' 'Bolivia'\n",
            " 'Uruguay' 'Brazil' 'Ecuador' 'Russia' 'Honduras' 'Paraguay' 'Chile'\n",
            " 'Venezuela' 'Belarus' 'Romania' 'Argentina' 'Lithuania'\n",
            " 'Northern Ireland' 'Denmark' 'Namibia' 'Malawi' 'Poland' 'Belgium'\n",
            " 'Faroe Islands' 'Israel' 'France' 'Austria' 'Singapore' 'Thailand'\n",
            " 'United Arab Emirates' 'Kuwait' 'Vietnam' 'Qatar' 'El Salvador' 'Canada'\n",
            " 'Costa Rica' 'Jamaica' 'Ukraine' 'Norway' 'Italy' 'Sri Lanka'\n",
            " 'Bangladesh' 'Japan' 'Nicaragua' 'Panama' 'Republic of Ireland' 'Spain'\n",
            " 'San Marino' 'Netherlands' 'Luxembourg' 'Wales' 'Hungary' 'Australia'\n",
            " 'Jordan' 'Albania' 'Latvia' 'Turkey' 'England' 'Lesotho' 'Congo'\n",
            " 'Botswana' 'Yemen' 'Iraq' 'Pakistan' 'Greece' 'Sweden' 'Cayman Islands'\n",
            " 'Puerto Rico' 'Barbados' 'India' 'Slovenia' 'Cyprus' 'Chinese Taipei'\n",
            " 'New Zealand' 'Trinidad and Tobago' 'Fiji' 'Oman' 'Grenada' 'Liberia'\n",
            " 'Croatia' 'Guyana' 'Haiti' 'Slovakia' 'Moldova' 'Georgia' 'Azerbaijan'\n",
            " 'Czech Republic' 'Armenia' 'Suriname' 'Liechtenstein' 'Tajikistan'\n",
            " 'Turkmenistan' 'Kazakhstan' 'Tahiti' 'Vanuatu' 'Somalia' 'Djibouti'\n",
            " 'Seychelles' 'Uzbekistan' 'Rwanda' 'Cuba' 'Solomon Islands' 'Nepal'\n",
            " 'Belize' 'Guatemala' 'Antigua and Barbuda' 'Dominican Republic'\n",
            " 'Bosnia and Herzegovina' 'Philippines' 'Maldives' 'Cambodia' 'Aruba'\n",
            " 'Dominica' 'Guam' 'Cook Islands' 'Samoa' 'Libya' 'Papua New Guinea'\n",
            " 'Andorra' 'Bermuda' 'Tonga' 'Chad' 'British Virgin Islands' 'Anguilla'\n",
            " 'Laos' 'Eritrea' 'Palestine' 'Equatorial Guinea' 'American Samoa'\n",
            " 'Bahamas' 'Montserrat' 'Central African Republic'\n",
            " 'Turks and Caicos Islands' 'Bhutan' 'Mongolia' 'Afghanistan'\n",
            " 'New Caledonia' 'Serbia' 'Comoros' 'Montenegro' 'Curaçao' 'South Sudan'\n",
            " 'Kosovo' 'Gibraltar' 'Myanmar' 'Timor-Leste']\n",
            "[ 1  2  6  0  3  5  4  8  9  7 10 13 12 16 14 19 11 20 17 31 22 15]\n",
            "[ 1  3  2  0  4  5  6  7 10  8  9 12 15 13]\n",
            "['Friendly' 'FIFA World Cup qualification'\n",
            " 'African Cup of Nations qualification' 'Amílcar Cabral Cup' \"King's Cup\"\n",
            " 'USA Cup' 'Nehru Cup' 'Copa América' 'Merdeka Tournament'\n",
            " 'Copa Paz del Chaco' 'Korea Cup' 'Baltic Cup' 'UNCAF Cup' 'Gold Cup'\n",
            " 'Kirin Cup' 'CFU Caribbean Cup qualification' 'CFU Caribbean Cup'\n",
            " 'United Arab Emirates Friendship Tournament' 'African Cup of Nations'\n",
            " 'Simba Tournament' 'FIFA World Cup' 'UEFA Euro qualification' 'Gulf Cup'\n",
            " 'CECAFA Cup' 'Malta International Tournament'\n",
            " 'Oceania Nations Cup qualification' 'Confederations Cup' 'Dynasty Cup'\n",
            " 'Oceania Nations Cup' 'SAFF Cup' 'Windward Islands Tournament'\n",
            " 'South Pacific Games' 'AFC Asian Cup qualification' 'AFC Asian Cup'\n",
            " 'King Hassan II Tournament' 'UEFA Euro' 'AFF Championship'\n",
            " 'Lunar New Year Cup' 'COSAFA Cup' 'Dunhill Cup' 'Tournoi de France'\n",
            " 'Cyprus International Tournament' 'UAFA Cup' 'Gold Cup qualification'\n",
            " 'UNIFFAC Cup' 'WAFF Championship' 'Nordic Championship' 'Millennium Cup'\n",
            " \"Prime Minister's Cup\" 'SKN Football Festival' 'EAFF Championship'\n",
            " 'AFC Challenge Cup' 'UAFA Cup qualification' 'Copa del Pacífico'\n",
            " 'AFC Challenge Cup qualification' 'VFF Cup'\n",
            " 'African Nations Championship' 'Dragon Cup' 'Nile Basin Tournament'\n",
            " 'Pacific Games' 'Nations Cup' 'ABCS Tournament' 'OSN Cup'\n",
            " 'Copa América qualification' 'UEFA Nations League' 'Intercontinental Cup']\n",
            "[ 64  51  54  56  60  86  79  83  84  76  34  30  31  33  35   1   5   4\n",
            "   3  99 112 116 119 123 154 152 153 125  32  77  82  81 113 127  58  57\n",
            "  63  26  25  27  24  23  22  48  42  40  41  37   2  21  20  28  29 118\n",
            " 117 109  61  62 129 100 103 106 110  80  78  14  16  18  17  66  67  68\n",
            "  69  87  89 149 144 145 142  90  93  91  59  65  97 101  98 102  36  74\n",
            "  70  73  75 167 166  44  46  38 104  96  95  94  88  72  92 133 130 131\n",
            " 132 107  50  47  43 114 135 136 137 140 124 128 146 138 126 105  55  12\n",
            "   7  15  85  11   8   9  10 108 111 155 156  71  13  39  19  45 134 158\n",
            " 157 160  49  52  53 115   6 150 122 120 121 161 159 151 141 139 143 148\n",
            " 147 163 164 170 162 165 168 169 172 174 171 173 176 175 178 179 181 177\n",
            " 180 182 183 184 186 187 185 190 191 192 193 189 195 188 194 196 197 201\n",
            " 202 199 198 200 203 204 205 206 207 208 209]\n",
            "[  0.   292.79 306.86 ... 240.73 241.71 241.13]\n",
            "[113 119 123 127  48  42  40  41  37 124 126 130  74  70  73  75  77  82\n",
            "  81  85  84  83 108 109 111  45  52  53  78  80  26  25  27  31  44  46\n",
            "  38  79 167 166  91  99 101  98  17  18  16 115 117 118 114 104 106 133\n",
            " 131 132  65  60  63  62 154 152 153 125  58  57  56  50  47  43  95  96\n",
            "  34  30  33  35 100 103 105  64  51  54  86  76  32  29 142 144 143  23\n",
            "  92  90   3  10  13   9  12   1   5   4  49 128  94  36  24  22  88  72\n",
            "  89  93  97 102 110 112  14  28  21  20  71  19  59  15   8   7  11  39\n",
            "  67  55  61 134 137   6 155 156  68  69  66 135 120   2 161 159 121 122\n",
            " 116 150  87 146 138 107 136 140 149 145 151 129 160 158 139 141 147 148\n",
            " 170 157 163 165 168 169 172 164 175 162 177 179 173 174 171 180 176 181\n",
            " 182 183 184 186 178 185 188 187 189 190 192 191 193 195 196 197 194 202\n",
            " 201 200 198 199 203 204 205 207 206 208 209]\n",
            "[  0.   463.79 468.85 ... 138.93 129.65  94.44]\n"
          ]
        }
      ]
    },
    {
      "cell_type": "code",
      "metadata": {
        "colab": {
          "base_uri": "https://localhost:8080/",
          "height": 534
        },
        "id": "2nUeF-CN2-R6",
        "outputId": "7f0c68ff-cd04-4601-a4e1-de6c9581d5c0"
      },
      "source": [
        "# checking for correlation in the dataset\n",
        "plt.subplots(figsize=(10,7))\n",
        "sns.heatmap(merged.corr(method='pearson'), annot=True)"
      ],
      "execution_count": 31,
      "outputs": [
        {
          "output_type": "execute_result",
          "data": {
            "text/plain": [
              "<matplotlib.axes._subplots.AxesSubplot at 0x7feaab38ee10>"
            ]
          },
          "metadata": {},
          "execution_count": 31
        },
        {
          "output_type": "display_data",
          "data": {
            "image/png": "[encoded data removed]",
            "text/plain": [
              "<Figure size 720x504 with 2 Axes>"
            ]
          },
          "metadata": {
            "needs_background": "light"
          }
        }
      ]
    },
    {
      "cell_type": "code",
      "metadata": {
        "colab": {
          "base_uri": "https://localhost:8080/",
          "height": 512
        },
        "id": "FOyCuan7m2K2",
        "outputId": "24e3afcc-6b0b-4699-c66b-d0693c2e9d67"
      },
      "source": [
        "#confirming data distribution\n",
        "merged.hist(bins=10, figsize=[8,6])"
      ],
      "execution_count": 32,
      "outputs": [
        {
          "output_type": "execute_result",
          "data": {
            "text/plain": [
              "array([[<matplotlib.axes._subplots.AxesSubplot object at 0x7feaa1c5a910>,\n",
              "        <matplotlib.axes._subplots.AxesSubplot object at 0x7feaa1c0ae90>],\n",
              "       [<matplotlib.axes._subplots.AxesSubplot object at 0x7feaa1bcc4d0>,\n",
              "        <matplotlib.axes._subplots.AxesSubplot object at 0x7feaa1b81ad0>],\n",
              "       [<matplotlib.axes._subplots.AxesSubplot object at 0x7feaa1b46110>,\n",
              "        <matplotlib.axes._subplots.AxesSubplot object at 0x7feaa1afc710>]],\n",
              "      dtype=object)"
            ]
          },
          "metadata": {},
          "execution_count": 32
        },
        {
          "output_type": "display_data",
          "data": {
            "image/png": "[encoded data removed]",
            "text/plain": [
              "<Figure size 576x432 with 6 Axes>"
            ]
          },
          "metadata": {
            "needs_background": "light"
          }
        }
      ]
    },
    {
      "cell_type": "markdown",
      "metadata": {
        "id": "CRPC4QHvwzZf"
      },
      "source": [
        "## Feature Engineering"
      ]
    },
    {
      "cell_type": "code",
      "metadata": {
        "id": "YcSmfD2StTnp",
        "colab": {
          "base_uri": "https://localhost:8080/",
          "height": 81
        },
        "outputId": "e11cd790-97b6-4eaa-dd46-a83ab7c67311"
      },
      "source": [
        "# Creating a new column(score) to determine a win,loss or draw score for the home team\n",
        "def final_state(score):\n",
        "  if score['home_score'] > score['away_score']:\n",
        "    result = 'Win'\n",
        "  elif score['home_score'] < score['away_score']:\n",
        "    result = 'Loss'\n",
        "  else:\n",
        "    result = 'Draw'\n",
        "  return result\n",
        "merged['score'] = merged.apply(final_state, axis=1)\n",
        "merged.head(1)\n"
      ],
      "execution_count": 33,
      "outputs": [
        {
          "output_type": "execute_result",
          "data": {
            "text/html": [
              "<div>\n",
              "<style scoped>\n",
              "    .dataframe tbody tr th:only-of-type {\n",
              "        vertical-align: middle;\n",
              "    }\n",
              "\n",
              "    .dataframe tbody tr th {\n",
              "        vertical-align: top;\n",
              "    }\n",
              "\n",
              "    .dataframe thead th {\n",
              "        text-align: right;\n",
              "    }\n",
              "</style>\n",
              "<table border=\"1\" class=\"dataframe\">\n",
              "  <thead>\n",
              "    <tr style=\"text-align: right;\">\n",
              "      <th></th>\n",
              "      <th>home_team</th>\n",
              "      <th>away_team</th>\n",
              "      <th>home_score</th>\n",
              "      <th>away_score</th>\n",
              "      <th>tournament</th>\n",
              "      <th>home_team_rank</th>\n",
              "      <th>home_team_points</th>\n",
              "      <th>away_team_rank</th>\n",
              "      <th>away_team_points</th>\n",
              "      <th>score</th>\n",
              "    </tr>\n",
              "  </thead>\n",
              "  <tbody>\n",
              "    <tr>\n",
              "      <th>0</th>\n",
              "      <td>Gabon</td>\n",
              "      <td>Burkina Faso</td>\n",
              "      <td>1</td>\n",
              "      <td>1</td>\n",
              "      <td>Friendly</td>\n",
              "      <td>64</td>\n",
              "      <td>0.00000</td>\n",
              "      <td>113</td>\n",
              "      <td>0.00000</td>\n",
              "      <td>Draw</td>\n",
              "    </tr>\n",
              "  </tbody>\n",
              "</table>\n",
              "</div>"
            ],
            "text/plain": [
              "  home_team     away_team  home_score  ...  away_team_rank away_team_points  score\n",
              "0     Gabon  Burkina Faso           1  ...             113          0.00000   Draw\n",
              "\n",
              "[1 rows x 10 columns]"
            ]
          },
          "metadata": {},
          "execution_count": 33
        }
      ]
    },
    {
      "cell_type": "code",
      "metadata": {
        "colab": {
          "base_uri": "https://localhost:8080/",
          "height": 112
        },
        "id": "iRjwhxmm-Gat",
        "outputId": "35d46da4-fce4-44f5-cf6f-0100002d3e91"
      },
      "source": [
        "# Converting the tournament columns' data to 3 categories 1,2, and 3\n",
        "# by creating another column category\n",
        "def f(tournament_category):\n",
        "  if tournament_category['tournament'] == 'FIFA World Cup qualification':\n",
        "    z = 1\n",
        "  elif tournament_category['tournament'] == 'Friendly':\n",
        "    z = 2\n",
        "  else:\n",
        "    z = 3\n",
        "  return z\n",
        "\n",
        "merged['tournament_category'] = merged.apply(f,axis =1)\n",
        "# dropping tournament column\n",
        "merged.drop(columns=['tournament']).head(2)"
      ],
      "execution_count": 34,
      "outputs": [
        {
          "output_type": "execute_result",
          "data": {
            "text/html": [
              "<div>\n",
              "<style scoped>\n",
              "    .dataframe tbody tr th:only-of-type {\n",
              "        vertical-align: middle;\n",
              "    }\n",
              "\n",
              "    .dataframe tbody tr th {\n",
              "        vertical-align: top;\n",
              "    }\n",
              "\n",
              "    .dataframe thead th {\n",
              "        text-align: right;\n",
              "    }\n",
              "</style>\n",
              "<table border=\"1\" class=\"dataframe\">\n",
              "  <thead>\n",
              "    <tr style=\"text-align: right;\">\n",
              "      <th></th>\n",
              "      <th>home_team</th>\n",
              "      <th>away_team</th>\n",
              "      <th>home_score</th>\n",
              "      <th>away_score</th>\n",
              "      <th>home_team_rank</th>\n",
              "      <th>home_team_points</th>\n",
              "      <th>away_team_rank</th>\n",
              "      <th>away_team_points</th>\n",
              "      <th>score</th>\n",
              "      <th>tournament_category</th>\n",
              "    </tr>\n",
              "  </thead>\n",
              "  <tbody>\n",
              "    <tr>\n",
              "      <th>0</th>\n",
              "      <td>Gabon</td>\n",
              "      <td>Burkina Faso</td>\n",
              "      <td>1</td>\n",
              "      <td>1</td>\n",
              "      <td>64</td>\n",
              "      <td>0.00000</td>\n",
              "      <td>113</td>\n",
              "      <td>0.00000</td>\n",
              "      <td>Draw</td>\n",
              "      <td>2</td>\n",
              "    </tr>\n",
              "    <tr>\n",
              "      <th>1</th>\n",
              "      <td>Gabon</td>\n",
              "      <td>Burkina Faso</td>\n",
              "      <td>1</td>\n",
              "      <td>1</td>\n",
              "      <td>64</td>\n",
              "      <td>0.00000</td>\n",
              "      <td>119</td>\n",
              "      <td>0.00000</td>\n",
              "      <td>Draw</td>\n",
              "      <td>2</td>\n",
              "    </tr>\n",
              "  </tbody>\n",
              "</table>\n",
              "</div>"
            ],
            "text/plain": [
              "  home_team     away_team  ...  score  tournament_category\n",
              "0     Gabon  Burkina Faso  ...   Draw                    2\n",
              "1     Gabon  Burkina Faso  ...   Draw                    2\n",
              "\n",
              "[2 rows x 10 columns]"
            ]
          },
          "metadata": {},
          "execution_count": 34
        }
      ]
    },
    {
      "cell_type": "code",
      "metadata": {
        "colab": {
          "base_uri": "https://localhost:8080/",
          "height": 357
        },
        "id": "EQPgsog1B9hW",
        "outputId": "234954c8-0b12-44b3-df43-ac0d68286445"
      },
      "source": [
        "# visualizing new column score on a bar plot\n",
        "import seaborn as sns\n",
        "sns.countplot('score',data = merged)\n",
        "plt.xlabel(\"score\",fontsize=15)\n",
        "plt.ylabel(\"count\",fontsize=15)\n",
        "plt.title(\"score frequency chart\",fontsize=16,color=\"white\")\n",
        "plt.show()\n",
        "\n",
        "# it shows a high probabilty to win a match"
      ],
      "execution_count": 35,
      "outputs": [
        {
          "output_type": "stream",
          "name": "stderr",
          "text": [
            "/usr/local/lib/python3.7/dist-packages/seaborn/_decorators.py:43: FutureWarning: Pass the following variable as a keyword arg: x. From version 0.12, the only valid positional argument will be `data`, and passing other arguments without an explicit keyword will result in an error or misinterpretation.\n",
            "  FutureWarning\n"
          ]
        },
        {
          "output_type": "display_data",
          "data": {
            "image/png": "[encoded data removed]",
            "text/plain": [
              "<Figure size 432x288 with 1 Axes>"
            ]
          },
          "metadata": {
            "needs_background": "light"
          }
        }
      ]
    },
    {
      "cell_type": "code",
      "metadata": {
        "colab": {
          "base_uri": "https://localhost:8080/",
          "height": 283
        },
        "id": "yy2W6bJWECxc",
        "outputId": "314068eb-623d-439e-90ba-6b3ef2f4aa7c"
      },
      "source": [
        "# performing an EDA on home and away scores by checking for outliers\n",
        "\n",
        "merged.boxplot(column=['home_score','away_score'])\n",
        "\n",
        "# From the boxplots,both the home score and away score columns have outliers.\n",
        "## The outliers will not be dropped, since the scores really did occur as shown below\n",
        "# https://en.m.wikipedia.org/wiki/Australia_31%E2%80%930_American_Samoa and could occur again"
      ],
      "execution_count": 36,
      "outputs": [
        {
          "output_type": "execute_result",
          "data": {
            "text/plain": [
              "<matplotlib.axes._subplots.AxesSubplot at 0x7feaa1a11ed0>"
            ]
          },
          "metadata": {},
          "execution_count": 36
        },
        {
          "output_type": "display_data",
          "data": {
            "image/png": "[encoded data removed]",
            "text/plain": [
              "<Figure size 432x288 with 1 Axes>"
            ]
          },
          "metadata": {
            "needs_background": "light"
          }
        }
      ]
    },
    {
      "cell_type": "markdown",
      "metadata": {
        "id": "eSZmkcQrLUqG"
      },
      "source": [
        "# Checking for Multi-collinearity"
      ]
    },
    {
      "cell_type": "code",
      "metadata": {
        "colab": {
          "base_uri": "https://localhost:8080/",
          "height": 206
        },
        "id": "EotAxlpvMY8B",
        "outputId": "9374086e-af95-48a7-b85d-0e99f94d5b9c"
      },
      "source": [
        "# single out the needed columns for creating our correlation matrix\n",
        "merged = merged[['home_team','away_team','home_score','away_score','home_team_rank','away_team_rank','tournament_category']]\n",
        "merged.head()"
      ],
      "execution_count": 37,
      "outputs": [
        {
          "output_type": "execute_result",
          "data": {
            "text/html": [
              "<div>\n",
              "<style scoped>\n",
              "    .dataframe tbody tr th:only-of-type {\n",
              "        vertical-align: middle;\n",
              "    }\n",
              "\n",
              "    .dataframe tbody tr th {\n",
              "        vertical-align: top;\n",
              "    }\n",
              "\n",
              "    .dataframe thead th {\n",
              "        text-align: right;\n",
              "    }\n",
              "</style>\n",
              "<table border=\"1\" class=\"dataframe\">\n",
              "  <thead>\n",
              "    <tr style=\"text-align: right;\">\n",
              "      <th></th>\n",
              "      <th>home_team</th>\n",
              "      <th>away_team</th>\n",
              "      <th>home_score</th>\n",
              "      <th>away_score</th>\n",
              "      <th>home_team_rank</th>\n",
              "      <th>away_team_rank</th>\n",
              "      <th>tournament_category</th>\n",
              "    </tr>\n",
              "  </thead>\n",
              "  <tbody>\n",
              "    <tr>\n",
              "      <th>0</th>\n",
              "      <td>Gabon</td>\n",
              "      <td>Burkina Faso</td>\n",
              "      <td>1</td>\n",
              "      <td>1</td>\n",
              "      <td>64</td>\n",
              "      <td>113</td>\n",
              "      <td>2</td>\n",
              "    </tr>\n",
              "    <tr>\n",
              "      <th>1</th>\n",
              "      <td>Gabon</td>\n",
              "      <td>Burkina Faso</td>\n",
              "      <td>1</td>\n",
              "      <td>1</td>\n",
              "      <td>64</td>\n",
              "      <td>119</td>\n",
              "      <td>2</td>\n",
              "    </tr>\n",
              "    <tr>\n",
              "      <th>2</th>\n",
              "      <td>Gabon</td>\n",
              "      <td>Burkina Faso</td>\n",
              "      <td>1</td>\n",
              "      <td>1</td>\n",
              "      <td>64</td>\n",
              "      <td>123</td>\n",
              "      <td>2</td>\n",
              "    </tr>\n",
              "    <tr>\n",
              "      <th>4</th>\n",
              "      <td>Gabon</td>\n",
              "      <td>Burkina Faso</td>\n",
              "      <td>1</td>\n",
              "      <td>1</td>\n",
              "      <td>64</td>\n",
              "      <td>127</td>\n",
              "      <td>2</td>\n",
              "    </tr>\n",
              "    <tr>\n",
              "      <th>5</th>\n",
              "      <td>Gabon</td>\n",
              "      <td>Burkina Faso</td>\n",
              "      <td>1</td>\n",
              "      <td>1</td>\n",
              "      <td>51</td>\n",
              "      <td>113</td>\n",
              "      <td>2</td>\n",
              "    </tr>\n",
              "  </tbody>\n",
              "</table>\n",
              "</div>"
            ],
            "text/plain": [
              "  home_team     away_team  ...  away_team_rank  tournament_category\n",
              "0     Gabon  Burkina Faso  ...             113                    2\n",
              "1     Gabon  Burkina Faso  ...             119                    2\n",
              "2     Gabon  Burkina Faso  ...             123                    2\n",
              "4     Gabon  Burkina Faso  ...             127                    2\n",
              "5     Gabon  Burkina Faso  ...             113                    2\n",
              "\n",
              "[5 rows x 7 columns]"
            ]
          },
          "metadata": {},
          "execution_count": 37
        }
      ]
    },
    {
      "cell_type": "code",
      "metadata": {
        "colab": {
          "base_uri": "https://localhost:8080/",
          "height": 175
        },
        "id": "-xeGErf9M8ZQ",
        "outputId": "f3610be9-a8f6-4811-9754-8a3800bb254b"
      },
      "source": [
        "# Multicollinearity refers to a situation in which two or more predictor variables\n",
        "# in a multiple regression model are highly linearly related. \n",
        "# We have perfect multicollinearity if the correlation between two independent variables is equal to 1 or −1\n",
        "\n",
        "# checking for correlation while dropping home_score as it is the target variable\n",
        "corr = merged.drop(columns=['home_score']).corr()\n",
        "corr"
      ],
      "execution_count": 38,
      "outputs": [
        {
          "output_type": "execute_result",
          "data": {
            "text/html": [
              "<div>\n",
              "<style scoped>\n",
              "    .dataframe tbody tr th:only-of-type {\n",
              "        vertical-align: middle;\n",
              "    }\n",
              "\n",
              "    .dataframe tbody tr th {\n",
              "        vertical-align: top;\n",
              "    }\n",
              "\n",
              "    .dataframe thead th {\n",
              "        text-align: right;\n",
              "    }\n",
              "</style>\n",
              "<table border=\"1\" class=\"dataframe\">\n",
              "  <thead>\n",
              "    <tr style=\"text-align: right;\">\n",
              "      <th></th>\n",
              "      <th>away_score</th>\n",
              "      <th>home_team_rank</th>\n",
              "      <th>away_team_rank</th>\n",
              "      <th>tournament_category</th>\n",
              "    </tr>\n",
              "  </thead>\n",
              "  <tbody>\n",
              "    <tr>\n",
              "      <th>away_score</th>\n",
              "      <td>1.00000</td>\n",
              "      <td>0.20157</td>\n",
              "      <td>-0.18949</td>\n",
              "      <td>0.00010</td>\n",
              "    </tr>\n",
              "    <tr>\n",
              "      <th>home_team_rank</th>\n",
              "      <td>0.20157</td>\n",
              "      <td>1.00000</td>\n",
              "      <td>0.45279</td>\n",
              "      <td>0.07395</td>\n",
              "    </tr>\n",
              "    <tr>\n",
              "      <th>away_team_rank</th>\n",
              "      <td>-0.18949</td>\n",
              "      <td>0.45279</td>\n",
              "      <td>1.00000</td>\n",
              "      <td>0.09379</td>\n",
              "    </tr>\n",
              "    <tr>\n",
              "      <th>tournament_category</th>\n",
              "      <td>0.00010</td>\n",
              "      <td>0.07395</td>\n",
              "      <td>0.09379</td>\n",
              "      <td>1.00000</td>\n",
              "    </tr>\n",
              "  </tbody>\n",
              "</table>\n",
              "</div>"
            ],
            "text/plain": [
              "                     away_score  ...  tournament_category\n",
              "away_score              1.00000  ...              0.00010\n",
              "home_team_rank          0.20157  ...              0.07395\n",
              "away_team_rank         -0.18949  ...              0.09379\n",
              "tournament_category     0.00010  ...              1.00000\n",
              "\n",
              "[4 rows x 4 columns]"
            ]
          },
          "metadata": {},
          "execution_count": 38
        }
      ]
    },
    {
      "cell_type": "markdown",
      "metadata": {
        "id": "EX727uLoQeaZ"
      },
      "source": [
        "\n",
        "The table above shows how each predictor variable relates to another. The coefficient of 1 across the diagonal makes sense, as a variable is perfectly correlated to itself. The correlations have been used to compute the VIF (Variance Inflation Factor) score for each variable.The VIF is created by finding the inverse matrix of the correations matrix."
      ]
    },
    {
      "cell_type": "code",
      "metadata": {
        "colab": {
          "base_uri": "https://localhost:8080/",
          "height": 175
        },
        "id": "WK9_ITp6QiJb",
        "outputId": "f9e9917b-3ff3-466a-be57-0152afdda2eb"
      },
      "source": [
        "# creating a VIF dataframe by finding inverse matrrix of the correlation matrix\n",
        "vif = pd.DataFrame(np.linalg.inv(corr.values), index = corr.index, columns = corr.columns)\n",
        "vif"
      ],
      "execution_count": 39,
      "outputs": [
        {
          "output_type": "execute_result",
          "data": {
            "text/html": [
              "<div>\n",
              "<style scoped>\n",
              "    .dataframe tbody tr th:only-of-type {\n",
              "        vertical-align: middle;\n",
              "    }\n",
              "\n",
              "    .dataframe tbody tr th {\n",
              "        vertical-align: top;\n",
              "    }\n",
              "\n",
              "    .dataframe thead th {\n",
              "        text-align: right;\n",
              "    }\n",
              "</style>\n",
              "<table border=\"1\" class=\"dataframe\">\n",
              "  <thead>\n",
              "    <tr style=\"text-align: right;\">\n",
              "      <th></th>\n",
              "      <th>away_score</th>\n",
              "      <th>home_team_rank</th>\n",
              "      <th>away_team_rank</th>\n",
              "      <th>tournament_category</th>\n",
              "    </tr>\n",
              "  </thead>\n",
              "  <tbody>\n",
              "    <tr>\n",
              "      <th>away_score</th>\n",
              "      <td>1.16256</td>\n",
              "      <td>-0.41993</td>\n",
              "      <td>0.41115</td>\n",
              "      <td>-0.00762</td>\n",
              "    </tr>\n",
              "    <tr>\n",
              "      <th>home_team_rank</th>\n",
              "      <td>-0.41993</td>\n",
              "      <td>1.41116</td>\n",
              "      <td>-0.71503</td>\n",
              "      <td>-0.03726</td>\n",
              "    </tr>\n",
              "    <tr>\n",
              "      <th>away_team_rank</th>\n",
              "      <td>0.41115</td>\n",
              "      <td>-0.71503</td>\n",
              "      <td>1.40911</td>\n",
              "      <td>-0.07932</td>\n",
              "    </tr>\n",
              "    <tr>\n",
              "      <th>tournament_category</th>\n",
              "      <td>-0.00762</td>\n",
              "      <td>-0.03726</td>\n",
              "      <td>-0.07932</td>\n",
              "      <td>1.01019</td>\n",
              "    </tr>\n",
              "  </tbody>\n",
              "</table>\n",
              "</div>"
            ],
            "text/plain": [
              "                     away_score  ...  tournament_category\n",
              "away_score              1.16256  ...             -0.00762\n",
              "home_team_rank         -0.41993  ...             -0.03726\n",
              "away_team_rank          0.41115  ...             -0.07932\n",
              "tournament_category    -0.00762  ...              1.01019\n",
              "\n",
              "[4 rows x 4 columns]"
            ]
          },
          "metadata": {},
          "execution_count": 39
        }
      ]
    },
    {
      "cell_type": "markdown",
      "metadata": {
        "id": "iWKNZvDyS6ph"
      },
      "source": [
        "VIFs start at 1 and have no upper limit. A value of 1 indicates that there is no correlation between this independent variable and any others. VIFs between 1 and 5 suggest that there is a moderate correlation, but it is not severe enough to warrant corrective measures. VIFs greater than 5 represent critical levels of multicollinearity where the coefficients are poorly estimated, and the p-values are questionable.\n",
        "\n",
        "Since there's no VIF > 5, it means there's no multicollinearity exhibited."
      ]
    },
    {
      "cell_type": "code",
      "metadata": {
        "colab": {
          "base_uri": "https://localhost:8080/"
        },
        "id": "JwEGM1XDWnzA",
        "outputId": "0fb00561-b008-48c2-bfaf-a143a0ddf6b5"
      },
      "source": [
        "merged.info()"
      ],
      "execution_count": 40,
      "outputs": [
        {
          "output_type": "stream",
          "name": "stdout",
          "text": [
            "<class 'pandas.core.frame.DataFrame'>\n",
            "Int64Index: 1283409 entries, 0 to 2325959\n",
            "Data columns (total 7 columns):\n",
            " #   Column               Non-Null Count    Dtype \n",
            "---  ------               --------------    ----- \n",
            " 0   home_team            1283409 non-null  object\n",
            " 1   away_team            1283409 non-null  object\n",
            " 2   home_score           1283409 non-null  int64 \n",
            " 3   away_score           1283409 non-null  int64 \n",
            " 4   home_team_rank       1283409 non-null  int64 \n",
            " 5   away_team_rank       1283409 non-null  int64 \n",
            " 6   tournament_category  1283409 non-null  int64 \n",
            "dtypes: int64(5), object(2)\n",
            "memory usage: 78.3+ MB\n"
          ]
        }
      ]
    },
    {
      "cell_type": "markdown",
      "metadata": {
        "id": "YjxbJJFmUl8D"
      },
      "source": [
        "##Creating our model using polynomial regression"
      ]
    },
    {
      "cell_type": "code",
      "metadata": {
        "id": "Mfb8KInJSjF9"
      },
      "source": [
        "# Import libaries\n",
        "from sklearn import metrics\n",
        "from sklearn.model_selection import train_test_split\n",
        "from sklearn.linear_model import LinearRegression\n",
        "from sklearn.preprocessing import PolynomialFeatures\n",
        "from sklearn.preprocessing import StandardScaler\n",
        "from sklearn.linear_model import LinearRegression\n",
        "from sklearn.metrics import mean_squared_error\n"
      ],
      "execution_count": 43,
      "outputs": []
    },
    {
      "cell_type": "markdown",
      "metadata": {
        "id": "QVlC8OBpU24U"
      },
      "source": [
        "### 1) Predicting the home score(Model 1)"
      ]
    },
    {
      "cell_type": "code",
      "metadata": {
        "colab": {
          "base_uri": "https://localhost:8080/"
        },
        "id": "stMCJqbWVOyw",
        "outputId": "ffac9f4b-cbe3-4a00-90ab-94caf7e10f94"
      },
      "source": [
        "# defining x and y datasets\n",
        "\n",
        "x = merged[['home_team','away_team','away_score','home_team_rank','away_team_rank','tournament_category']]\n",
        "y = merged['home_score']\n",
        "\n",
        "# Encoding categorical variables\n",
        "x = pd.get_dummies(x, drop_first=True)\n",
        "\n",
        "# splitting data into training and testing datasets\n",
        "x_train, x_test, y_train, y_test = train_test_split(x, y, test_size = 0.2, random_state = 0)\n",
        "\n",
        "\n",
        "# Standardising the x_train and the x_test to the same scale\n",
        "sc = StandardScaler()\n",
        "x_train = sc.fit_transform(x_train)\n",
        "x_test = sc.transform(x_test)\n",
        "\n",
        "# Fitting the polynomial features to the x_train and x_test\n",
        "poly_features = PolynomialFeatures(degree = 1)\n",
        "x_train = poly_features.fit_transform(x_train)\n",
        "x_test = poly_features.fit_transform(x_test)\n",
        "\n",
        "# Training the model\n",
        "regressor = LinearRegression()\n",
        "regressor.fit(x_train, y_train)\n",
        "\n",
        "# Making predictions\n",
        "y_pred = regressor.predict(x_test)\n",
        "\n",
        "# Measuring the accuracy of the model\n",
        "pd.options.display.float_format = '{:.5f}'.format\n",
        "print(\"The RMSE score for the model : \", np.sqrt(mean_squared_error(y_test, y_pred)))"
      ],
      "execution_count": 44,
      "outputs": [
        {
          "output_type": "stream",
          "name": "stdout",
          "text": [
            "The RMSE score for the model :  1.281780028079683\n"
          ]
        }
      ]
    },
    {
      "cell_type": "markdown",
      "metadata": {
        "id": "-FafpBa-j6Ee"
      },
      "source": [
        "Based on a rule of thumb, it can be said that RMSE values between 0.2 and 0.5 shows that the model can relatively predict the data accurately. RMSE value ≥0.5 reflects the poor ability of the model to accurately predict the data.\n",
        "\n",
        "This means our model has low accuracy for predicting the data."
      ]
    },
    {
      "cell_type": "markdown",
      "metadata": {
        "id": "bNSk_ld2evtf"
      },
      "source": [
        "### 1.1) Checking how appropriate model 1 is using a residual plot"
      ]
    },
    {
      "cell_type": "code",
      "metadata": {
        "colab": {
          "base_uri": "https://localhost:8080/",
          "height": 295
        },
        "id": "w74-C1P-eor1",
        "outputId": "e790e7b4-b834-4f17-ebf4-0a98ab8668fc"
      },
      "source": [
        "# Plotting the residual plot by substracting the test value from the predicted value\n",
        "\n",
        "residuals = np.subtract(y_pred, y_test)\n",
        "\n",
        "# Plotting the residual scatterplot\n",
        "\n",
        "plt.scatter(y_pred, residuals, color='black')\n",
        "plt.title('Residual Plot')\n",
        "plt.ylabel('residual')\n",
        "plt.xlabel('fitted values')\n",
        "plt.axhline(y= residuals.mean(), color='red', linewidth=1)\n",
        "plt.show()"
      ],
      "execution_count": 45,
      "outputs": [
        {
          "output_type": "display_data",
          "data": {
            "image/png": "[encoded data removed]",
            "text/plain": [
              "<Figure size 432x288 with 1 Axes>"
            ]
          },
          "metadata": {
            "needs_background": "light"
          }
        }
      ]
    },
    {
      "cell_type": "markdown",
      "metadata": {
        "id": "dwaF04cVu8A-"
      },
      "source": [
        "### 2) Predicting the away score(Model 2)"
      ]
    },
    {
      "cell_type": "code",
      "metadata": {
        "colab": {
          "base_uri": "https://localhost:8080/"
        },
        "id": "skwRb9KEq5_f",
        "outputId": "bf516d42-d230-4463-f123-5ee52950ec86"
      },
      "source": [
        "# defining x and y datasets\n",
        "\n",
        "x = merged[['home_team','away_team','home_score','home_team_rank','away_team_rank','tournament_category']]\n",
        "y = merged['home_score']\n",
        "\n",
        "# Encoding categorical variables\n",
        "x = pd.get_dummies(x, drop_first=True)\n",
        "\n",
        "# splitting data into training and testing datasets\n",
        "x_train, x_test, y_train, y_test = train_test_split(x, y, test_size = 0.2, random_state = 0)\n",
        "\n",
        "\n",
        "# Standardising the x_train and the x_test to the same scale\n",
        "sc = StandardScaler()\n",
        "x_train = sc.fit_transform(x_train)\n",
        "x_test = sc.transform(x_test)\n",
        "\n",
        "# Fitting the polynomial features to the x_train and x_test\n",
        "poly_features = PolynomialFeatures(degree = 1)\n",
        "x_train = poly_features.fit_transform(x_train)\n",
        "x_test = poly_features.fit_transform(x_test)\n",
        "\n",
        "# Training the model\n",
        "regressor = LinearRegression()\n",
        "regressor.fit(x_train, y_train)\n",
        "\n",
        "# Making predictions\n",
        "y_pred = regressor.predict(x_test)\n",
        "\n",
        "# Measuring the accuracy of the model\n",
        "pd.options.display.float_format = '{:.5f}'.format\n",
        "print(\"The RMSE score for the model : \", np.sqrt(mean_squared_error(y_test, y_pred)))"
      ],
      "execution_count": 49,
      "outputs": [
        {
          "output_type": "stream",
          "name": "stdout",
          "text": [
            "The RMSE score for the model :  1.0519747125839938\n"
          ]
        }
      ]
    },
    {
      "cell_type": "markdown",
      "metadata": {
        "id": "Pkm5OW-4rOFj"
      },
      "source": [
        " ### 2.1) Checking how appropriate model 2 is using a residual plot"
      ]
    },
    {
      "cell_type": "code",
      "metadata": {
        "colab": {
          "base_uri": "https://localhost:8080/",
          "height": 295
        },
        "id": "8oZkA8jrpjXQ",
        "outputId": "4ae09534-97e6-4a77-e4ae-4ff5a3a5afa6"
      },
      "source": [
        "# Plotting the residual plot by substracting the test value from the predicted value\n",
        "\n",
        "residuals = np.subtract(y_pred, y_test)\n",
        "\n",
        "# Plotting the residual scatterplot\n",
        "\n",
        "plt.scatter(y_pred, residuals, color='black')\n",
        "plt.title('Residual Plot')\n",
        "plt.ylabel('residual')\n",
        "plt.xlabel('fitted values')\n",
        "plt.axhline(y= residuals.mean(), color='red', linewidth=1)\n",
        "plt.show()"
      ],
      "execution_count": 50,
      "outputs": [
        {
          "output_type": "display_data",
          "data": {
            "image/png": "[encoded data removed]",
            "text/plain": [
              "<Figure size 432x288 with 1 Axes>"
            ]
          },
          "metadata": {
            "needs_background": "light"
          }
        }
      ]
    },
    {
      "cell_type": "code",
      "metadata": {
        "id": "uxS0IPEorWi3"
      },
      "source": [
        ""
      ],
      "execution_count": null,
      "outputs": []
    }
  ]
}